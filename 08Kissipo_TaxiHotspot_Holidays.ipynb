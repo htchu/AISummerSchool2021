{
  "nbformat": 4,
  "nbformat_minor": 0,
  "metadata": {
    "kernelspec": {
      "display_name": "Python 3",
      "language": "python",
      "name": "python3"
    },
    "language_info": {
      "codemirror_mode": {
        "name": "ipython",
        "version": 3
      },
      "file_extension": ".py",
      "mimetype": "text/x-python",
      "name": "python",
      "nbconvert_exporter": "python",
      "pygments_lexer": "ipython3",
      "version": "3.7.1"
    },
    "colab": {
      "name": "TaxiHotspot3_Holidays.ipynb",
      "provenance": []
    }
  },
  "cells": [
    {
      "cell_type": "markdown",
      "metadata": {
        "id": "lImNRSPwyJCu"
      },
      "source": [
        "<table width=\"100%\" border=\"3\">\n",
        "  <tbody>\n",
        "    <tr>\n",
        "      <td ><img src=\"https://aidea-web.tw/images/web/logo_white.png\" alt=\"Aidea\" width=\"400\"/></td>\n",
        "      <td align='left'><h1>Exercise 3:Prediction with holidays</h1></td>\n",
        "    </tr>\n",
        "  </tbody>\n",
        "</table>\n",
        "Taxi Hotspot Prediction with holidays"
      ]
    },
    {
      "cell_type": "code",
      "metadata": {
        "id": "TKnUjDZ06lMs"
      },
      "source": [
        "from google_drive_downloader import GoogleDriveDownloader\n",
        "GoogleDriveDownloader.download_file_from_google_drive(file_id='13BhHdMYUP7VxYV1PNoQGx-wldEMebjyd',dest_path='./content', unzip=True)"
      ],
      "execution_count": null,
      "outputs": []
    },
    {
      "cell_type": "code",
      "metadata": {
        "id": "CksAR-5COkjN"
      },
      "source": [
        "import numpy as np\n",
        "import pandas as pd\n",
        "import matplotlib.pyplot as plt\n",
        "%matplotlib inline"
      ],
      "execution_count": null,
      "outputs": []
    },
    {
      "cell_type": "code",
      "metadata": {
        "id": "mkWhBwQTOkjT"
      },
      "source": [
        "#Read training data\n",
        "df_train = pd.read_csv('taxi_data/train_hire_stats.csv')\n",
        "df_train.shape"
      ],
      "execution_count": null,
      "outputs": []
    },
    {
      "cell_type": "code",
      "metadata": {
        "id": "zAT1IaBJOkjW"
      },
      "source": [
        "#Check weekday & workday\n",
        "#holidays連假的平常日\n",
        "#workdays連假的補班日\n",
        "holidays=set(['2016-02-08', '2016-02-09', '2016-02-10', '2016-02-11', '2016-02-12','2016-02-29', '2016-04-04', '2016-04-05', '2016-06-09', '2016-06-10', \n",
        "'2016-09-15', '2016-09-16', '2016-10-10', '2017-01-02', '2017-01-27', '2017-01-30', '2017-02-01','2017-02-27', '2017-02-28'])\n",
        "makeupworkdays = set(['2016-06-04', '2016-09-10', '2017-02-18'])"
      ],
      "execution_count": null,
      "outputs": []
    },
    {
      "cell_type": "code",
      "metadata": {
        "id": "hr0reIR4OkjY"
      },
      "source": [
        "#Declare weekday & workday\n",
        "isworkday = np.ones((len(df_train),), dtype=int)\n",
        "weekday = np.ones((len(df_train),), dtype=int)"
      ],
      "execution_count": null,
      "outputs": []
    },
    {
      "cell_type": "code",
      "metadata": {
        "id": "ZyQABOCZOkja"
      },
      "source": [
        "#Compute weekday & workday\n",
        "#weekday()\n",
        "#0 == Monday, #1 == Tuesday, #2 == Wednesday,  #3 == Thursday,  #4 == Friday,  #5 == Saturday, #6 == Sunday\n",
        "from datetime import datetime\n",
        "\n",
        "for index, row in df_train.iterrows():\n",
        "    if row['Date'] in holidays:\n",
        "        isworkday[index] = 0\n",
        "    else:\n",
        "        dd=datetime.strptime(row['Date'], \"%Y-%m-%d\")\n",
        "        weekday[index]= dd.weekday() \n",
        "        if weekday[index] >=5 and row['Date'] not in makeupworkdays:\n",
        "            isworkday[index] = 0\n"
      ],
      "execution_count": null,
      "outputs": []
    },
    {
      "cell_type": "code",
      "metadata": {
        "id": "zq7ckqnbOkjd"
      },
      "source": [
        "#Build a new dataframe from the training data\n",
        "RawX = pd.DataFrame(df_train[[\"Zone_ID\", \"Hour_slot\"]])\n",
        "RawX['isworkday'] = isworkday\n",
        "RawX['weekday'] = weekday"
      ],
      "execution_count": null,
      "outputs": []
    },
    {
      "cell_type": "code",
      "metadata": {
        "id": "W0_qIeKsOkjf"
      },
      "source": [
        "#See the raw input data\n",
        "RawX.head()"
      ],
      "execution_count": null,
      "outputs": []
    },
    {
      "cell_type": "code",
      "metadata": {
        "id": "n7m8bb1TOkjj"
      },
      "source": [
        "#Use OneHotEncoder\n",
        "from sklearn.preprocessing import OneHotEncoder\n",
        "enc = OneHotEncoder(handle_unknown='ignore')"
      ],
      "execution_count": null,
      "outputs": []
    },
    {
      "cell_type": "code",
      "metadata": {
        "id": "lfO5O6tqOkjm"
      },
      "source": [
        "#Build encoder\n",
        "enc.fit_transform(RawX)\n",
        "enc.categories_"
      ],
      "execution_count": null,
      "outputs": []
    },
    {
      "cell_type": "code",
      "metadata": {
        "id": "CKeJBxx_Okjs"
      },
      "source": [
        "#Transform data into one hot vector\n",
        "X = enc.transform(RawX).toarray()\n",
        "X.shape"
      ],
      "execution_count": null,
      "outputs": []
    },
    {
      "cell_type": "code",
      "metadata": {
        "id": "AdYCTe4DOkju"
      },
      "source": [
        "#See the cooked input data\n",
        "X[0:3, :]"
      ],
      "execution_count": null,
      "outputs": []
    },
    {
      "cell_type": "code",
      "metadata": {
        "id": "FhY42SltOkjy"
      },
      "source": [
        "#Resize y into (0,1)\n",
        "y = df_train[\"Hire_count\"].values/339.0\n",
        "y.shape"
      ],
      "execution_count": null,
      "outputs": []
    },
    {
      "cell_type": "code",
      "metadata": {
        "id": "gqr7-fR0Okj2"
      },
      "source": [
        "import tensorflow as tf\n",
        "from tensorflow import keras\n",
        "from tensorflow.keras.models import Sequential\n",
        "from tensorflow.keras.layers import Input, Dense, Activation, Dropout"
      ],
      "execution_count": null,
      "outputs": []
    },
    {
      "cell_type": "code",
      "metadata": {
        "id": "XqN0FCDGOkj4"
      },
      "source": [
        "# create and fit a Baseline Neural Network Model\n",
        "model = Sequential()\n",
        "model.add(Dense(128, activation='relu', input_dim=58))\n",
        "model.add(Dense(units=10, activation='relu'))\n",
        "model.add(Dropout(0.1))\n",
        "model.add(Dense(1))"
      ],
      "execution_count": null,
      "outputs": []
    },
    {
      "cell_type": "code",
      "metadata": {
        "id": "x8Ohx3bEOkj7"
      },
      "source": [
        "model.compile(loss='mse', optimizer='adam')\n",
        "model.fit(X, y, epochs=10, batch_size=1024, verbose=1)"
      ],
      "execution_count": null,
      "outputs": []
    },
    {
      "cell_type": "code",
      "metadata": {
        "id": "hRlfh4XHOkj_"
      },
      "source": [
        "df_test = pd.read_csv('taxi_data/test_hire_stats.csv')\n",
        "df_test.shape"
      ],
      "execution_count": null,
      "outputs": []
    },
    {
      "cell_type": "code",
      "metadata": {
        "id": "yUcUzYacV-WC"
      },
      "source": [
        "#Declare weekday & workday\n",
        "isworkday2 = np.ones((len(df_test),), dtype=int)\n",
        "weekday2 = np.ones((len(df_test),), dtype=int)"
      ],
      "execution_count": null,
      "outputs": []
    },
    {
      "cell_type": "code",
      "metadata": {
        "id": "0L5yVWEtOkkB"
      },
      "source": [
        "for index, row in df_test.iterrows():\n",
        "    if row['Date'] in holidays:\n",
        "        isworkday2[index] = 0\n",
        "    else:\n",
        "        dd=datetime.strptime(row['Date'], \"%Y-%m-%d\")\n",
        "        weekday2[index]= dd.weekday() \n",
        "        if weekday2[index] >=5 and row['Date'] not in makeupworkdays:\n",
        "            isworkday2[index] = 0"
      ],
      "execution_count": null,
      "outputs": []
    },
    {
      "cell_type": "code",
      "metadata": {
        "id": "2FhTD600OkkE"
      },
      "source": [
        "Test = pd.DataFrame(df_test[[\"Zone_ID\", \"Hour_slot\"]])\n",
        "Test['isworkday'] = isworkday2\n",
        "Test['weekday'] = weekday2"
      ],
      "execution_count": null,
      "outputs": []
    },
    {
      "cell_type": "code",
      "metadata": {
        "id": "r--p7gqWOkkH"
      },
      "source": [
        "Xtest = enc.transform(Test).toarray()\n",
        "Xtest.shape"
      ],
      "execution_count": null,
      "outputs": []
    },
    {
      "cell_type": "code",
      "metadata": {
        "id": "yVosG1IpOkkJ"
      },
      "source": [
        "yt = model.predict(Xtest)*339.0"
      ],
      "execution_count": null,
      "outputs": []
    },
    {
      "cell_type": "code",
      "metadata": {
        "id": "oQMuxcuUOkkN"
      },
      "source": [
        "plt.plot(yt)"
      ],
      "execution_count": null,
      "outputs": []
    },
    {
      "cell_type": "code",
      "metadata": {
        "id": "BNTgmnbSOkkU"
      },
      "source": [
        "dfOut = pd.DataFrame(yt)"
      ],
      "execution_count": null,
      "outputs": []
    },
    {
      "cell_type": "code",
      "metadata": {
        "id": "kOP3bd6zOkkX"
      },
      "source": [
        "dfOut.to_csv('Result3.csv')"
      ],
      "execution_count": null,
      "outputs": []
    }
  ]
}