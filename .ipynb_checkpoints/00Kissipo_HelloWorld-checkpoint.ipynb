{
 "cells": [
  {
   "cell_type": "markdown",
   "metadata": {
    "id": "BTRCr9-TC_9T"
   },
   "source": [
    "# Deep Learing by Kissipo\n",
    "MNIST handwritten digit recognition\n",
    "![Mnist](https://camo.githubusercontent.com/01c057a753e92a9bc70b8c45d62b295431851c09cffadf53106fc0aea7e2843f/687474703a2f2f692e7974696d672e636f6d2f76692f3051493378675875422d512f687164656661756c742e6a7067)"
   ]
  },
  {
   "cell_type": "markdown",
   "metadata": {
    "id": "JKFj0MI4C_9Y"
   },
   "source": [
    "##  Load the function library required by TF2.0"
   ]
  },
  {
   "cell_type": "code",
   "execution_count": 13,
   "metadata": {
    "colab": {
     "base_uri": "https://localhost:8080/"
    },
    "id": "YLmTr87Umteb",
    "outputId": "7208c825-2ac5-46bc-ef8c-9d819482e1de"
   },
   "outputs": [
    {
     "name": "stdout",
     "output_type": "stream",
     "text": [
      "2.5.0\n"
     ]
    }
   ],
   "source": [
    "import tensorflow as tf\n",
    "print(tf.__version__)"
   ]
  },
  {
   "cell_type": "code",
   "execution_count": null,
   "metadata": {
    "id": "dPfdJ79EC_-s"
   },
   "outputs": [],
   "source": [
    "import numpy as np\n",
    "from PIL import Image\n",
    "from IPython.display import display"
   ]
  },
  {
   "cell_type": "markdown",
   "metadata": {
    "id": "WcR7IYQaC_9i"
   },
   "source": [
    "# Part-1 The training phase"
   ]
  },
  {
   "cell_type": "markdown",
   "metadata": {
    "id": "ZAAcjxyoC_9m"
   },
   "source": [
    "## IPO-M: Building a DL model (Sequential API, Graph mode)\n",
    "$M(x)=\\hat{y}$"
   ]
  },
  {
   "cell_type": "code",
   "execution_count": 14,
   "metadata": {
    "id": "GwGB5wRTC_9o"
   },
   "outputs": [],
   "source": [
    "model = tf.keras.models.Sequential([\n",
    "  tf.keras.layers.Flatten(input_shape=(28, 28)),\n",
    "  tf.keras.layers.Dense(128, activation='relu'),\n",
    "  tf.keras.layers.Dropout(0.2),\n",
    "  tf.keras.layers.Dense(10)\n",
    "])"
   ]
  },
  {
   "cell_type": "markdown",
   "metadata": {
    "id": "cCw8Ec9IC_9v"
   },
   "source": [
    "## IPO-I: input data"
   ]
  },
  {
   "cell_type": "markdown",
   "metadata": {
    "id": "rxsD1Ld-C_93"
   },
   "source": [
    "### Load the MNIST dataset."
   ]
  },
  {
   "cell_type": "code",
   "execution_count": 15,
   "metadata": {
    "id": "E2nYp5KCnHiH"
   },
   "outputs": [],
   "source": [
    "mnist = tf.keras.datasets.mnist\n",
    "(x_train, y_train), (x_test, y_test) = mnist.load_data()"
   ]
  },
  {
   "cell_type": "code",
   "execution_count": 16,
   "metadata": {
    "colab": {
     "base_uri": "https://localhost:8080/"
    },
    "id": "NAKQY5DgC_-K",
    "outputId": "7b7a58f7-2de2-466f-c84c-d4330c7d1580"
   },
   "outputs": [
    {
     "data": {
      "text/plain": [
       "numpy.ndarray"
      ]
     },
     "execution_count": 16,
     "metadata": {
      "tags": []
     },
     "output_type": "execute_result"
    }
   ],
   "source": [
    "type(x_train)"
   ]
  },
  {
   "cell_type": "code",
   "execution_count": 17,
   "metadata": {
    "colab": {
     "base_uri": "https://localhost:8080/"
    },
    "id": "TMSXCKX5YbiM",
    "outputId": "4698338e-3aa4-40a1-8161-78c9f163ba36"
   },
   "outputs": [
    {
     "name": "stdout",
     "output_type": "stream",
     "text": [
      "(60000, 28, 28)\n",
      "(10000, 28, 28)\n"
     ]
    }
   ],
   "source": [
    "print(x_train.shape)\n",
    "print(x_test.shape)"
   ]
  },
  {
   "cell_type": "code",
   "execution_count": 18,
   "metadata": {
    "colab": {
     "base_uri": "https://localhost:8080/",
     "height": 45
    },
    "id": "wjCisDtEoC8Y",
    "outputId": "087b1e3b-52e5-4245-d39d-51fdc853221b"
   },
   "outputs": [
    {
     "data": {
      "image/png": "[encoded data removed]",
      "text/plain": [
       "<PIL.Image.Image image mode=L size=28x28 at 0x7F408011B0D0>"
      ]
     },
     "metadata": {
      "tags": []
     },
     "output_type": "display_data"
    }
   ],
   "source": [
    "data_train1 = x_train[1111]\n",
    "img_train1  = Image.fromarray(data_train1, 'L')\n",
    "display(img_train1)"
   ]
  },
  {
   "cell_type": "code",
   "execution_count": 19,
   "metadata": {
    "colab": {
     "base_uri": "https://localhost:8080/",
     "height": 45
    },
    "id": "j3a1HqNloxG5",
    "outputId": "e1033868-4ecb-4f31-a352-4b6baf979783"
   },
   "outputs": [
    {
     "data": {
      "image/png": "[encoded data removed]",
      "text/plain": [
       "<PIL.Image.Image image mode=L size=28x28 at 0x7F4096F73590>"
      ]
     },
     "metadata": {
      "tags": []
     },
     "output_type": "display_data"
    }
   ],
   "source": [
    "data_train1 = x_train[6666]\n",
    "img_train1  = Image.fromarray(data_train1, 'L')\n",
    "display(img_train1)"
   ]
  },
  {
   "cell_type": "code",
   "execution_count": 20,
   "metadata": {
    "id": "XgCs96hvor90"
   },
   "outputs": [],
   "source": [
    "x_train2, x_test2 = x_train / 255.0, x_test / 255.0"
   ]
  },
  {
   "cell_type": "markdown",
   "metadata": {
    "id": "gjgcC6vCC_-R"
   },
   "source": [
    "## IPO-O: ontput data"
   ]
  },
  {
   "cell_type": "code",
   "execution_count": 21,
   "metadata": {
    "colab": {
     "base_uri": "https://localhost:8080/"
    },
    "id": "KBqfxyVhC_-U",
    "outputId": "1c684d8b-fe3e-44cd-9345-6b56b85f5083"
   },
   "outputs": [
    {
     "name": "stdout",
     "output_type": "stream",
     "text": [
      "(60000,)\n",
      "(10000,)\n"
     ]
    }
   ],
   "source": [
    "print(y_train.shape)\n",
    "print(y_test.shape)"
   ]
  },
  {
   "cell_type": "markdown",
   "metadata": {
    "id": "M2nc7BczC_-X"
   },
   "source": [
    "## IPO-P: Training model"
   ]
  },
  {
   "cell_type": "markdown",
   "metadata": {
    "id": "V6TTqVqPC_-f"
   },
   "source": [
    "###  Choose an optimizer and loss function for model construction\n",
    "The from_logits=True attribute inform the loss function that the output values generated by the model are not normalized, a.k.a. logits. In other words, the softmax function has not been applied on them to produce a probability distribution."
   ]
  },
  {
   "cell_type": "code",
   "execution_count": 22,
   "metadata": {
    "id": "jEqrcNO1C_-h"
   },
   "outputs": [],
   "source": [
    "loss_fn = tf.keras.losses.SparseCategoricalCrossentropy(from_logits=True)"
   ]
  },
  {
   "cell_type": "code",
   "execution_count": 23,
   "metadata": {
    "id": "bzE_SwLVC_-i"
   },
   "outputs": [],
   "source": [
    "#Create an optimizer with the desired parameters.\n",
    "opt = tf.keras.optimizers.SGD(learning_rate=0.1)"
   ]
  },
  {
   "cell_type": "markdown",
   "metadata": {
    "id": "MrbzaZ10C_-k"
   },
   "source": [
    "### Compile model"
   ]
  },
  {
   "cell_type": "code",
   "execution_count": 24,
   "metadata": {
    "id": "7RsnYBuanm33"
   },
   "outputs": [],
   "source": [
    "model.compile(optimizer=opt, loss=loss_fn, metrics=['accuracy'])"
   ]
  },
  {
   "cell_type": "markdown",
   "metadata": {
    "id": "zNqVCpg2C_-m"
   },
   "source": [
    "##  Perform model training"
   ]
  },
  {
   "cell_type": "code",
   "execution_count": 25,
   "metadata": {
    "colab": {
     "base_uri": "https://localhost:8080/"
    },
    "id": "poefNKBVoDef",
    "outputId": "8e0c35ae-1f80-4c8a-d40c-20697ab25e83"
   },
   "outputs": [
    {
     "name": "stdout",
     "output_type": "stream",
     "text": [
      "Epoch 1/10\n",
      "1875/1875 [==============================] - 4s 1ms/step - loss: 0.3310 - accuracy: 0.9025\n",
      "Epoch 2/10\n",
      "1875/1875 [==============================] - 3s 1ms/step - loss: 0.1727 - accuracy: 0.9489\n",
      "Epoch 3/10\n",
      "1875/1875 [==============================] - 3s 1ms/step - loss: 0.1303 - accuracy: 0.9617\n",
      "Epoch 4/10\n",
      "1875/1875 [==============================] - 3s 1ms/step - loss: 0.1109 - accuracy: 0.9673\n",
      "Epoch 5/10\n",
      "1875/1875 [==============================] - 3s 1ms/step - loss: 0.0969 - accuracy: 0.9707\n",
      "Epoch 6/10\n",
      "1875/1875 [==============================] - 3s 1ms/step - loss: 0.0877 - accuracy: 0.9736\n",
      "Epoch 7/10\n",
      "1875/1875 [==============================] - 3s 1ms/step - loss: 0.0793 - accuracy: 0.9753\n",
      "Epoch 8/10\n",
      "1875/1875 [==============================] - 3s 1ms/step - loss: 0.0731 - accuracy: 0.9776\n",
      "Epoch 9/10\n",
      "1875/1875 [==============================] - 3s 2ms/step - loss: 0.0646 - accuracy: 0.9803\n",
      "Epoch 10/10\n",
      "1875/1875 [==============================] - 3s 2ms/step - loss: 0.0617 - accuracy: 0.9805\n"
     ]
    },
    {
     "data": {
      "text/plain": [
       "<tensorflow.python.keras.callbacks.History at 0x7f408011bed0>"
      ]
     },
     "execution_count": 25,
     "metadata": {
      "tags": []
     },
     "output_type": "execute_result"
    }
   ],
   "source": [
    "model.fit(x_train2, y_train, epochs=10)"
   ]
  },
  {
   "cell_type": "markdown",
   "metadata": {
    "id": "PZ7ZoW94C_-q"
   },
   "source": [
    "## IPO-P: Evaluating the trained model"
   ]
  },
  {
   "cell_type": "code",
   "execution_count": 26,
   "metadata": {
    "colab": {
     "base_uri": "https://localhost:8080/"
    },
    "id": "BRAInZ1AobI8",
    "outputId": "85415e9d-6f66-4a32-a562-26ea54ab4204"
   },
   "outputs": [
    {
     "name": "stdout",
     "output_type": "stream",
     "text": [
      "313/313 [==============================] - 1s 2ms/step - loss: 0.0683 - accuracy: 0.9777\n"
     ]
    },
    {
     "data": {
      "text/plain": [
       "[0.06831943243741989, 0.9776999950408936]"
      ]
     },
     "execution_count": 26,
     "metadata": {
      "tags": []
     },
     "output_type": "execute_result"
    }
   ],
   "source": [
    "model.evaluate(x_test2,  y_test)"
   ]
  },
  {
   "cell_type": "markdown",
   "metadata": {
    "id": "DrkzShpvC_-t"
   },
   "source": [
    "# Part-2 The Inference phase"
   ]
  },
  {
   "cell_type": "markdown",
   "metadata": {
    "id": "Qio9X2LhrKqe"
   },
   "source": [
    "## First trial"
   ]
  },
  {
   "cell_type": "markdown",
   "metadata": {
    "id": "yvx6dYLTC_-v"
   },
   "source": [
    "## IPO-I: input a single image"
   ]
  },
  {
   "cell_type": "code",
   "execution_count": 27,
   "metadata": {
    "colab": {
     "base_uri": "https://localhost:8080/",
     "height": 45
    },
    "id": "nZYiA1ahC_-x",
    "outputId": "341a79fb-0b0c-43f0-d0b1-cf6f46ed90a3"
   },
   "outputs": [
    {
     "data": {
      "image/png": "[encoded data removed]",
      "text/plain": [
       "<PIL.Image.Image image mode=L size=28x28 at 0x7F404A4594D0>"
      ]
     },
     "metadata": {
      "tags": []
     },
     "output_type": "display_data"
    }
   ],
   "source": [
    "#show image real size \n",
    "data_test1 = x_test[177]\n",
    "img_test1  = Image.fromarray(data_test1, 'L')\n",
    "display(img_test1)\n"
   ]
  },
  {
   "cell_type": "markdown",
   "metadata": {
    "id": "pds7E1epC_-z"
   },
   "source": [
    "### Covert an image to a numpy.ndarray (1, 28, 28)"
   ]
  },
  {
   "cell_type": "code",
   "execution_count": 28,
   "metadata": {
    "id": "kra1xA1DC_-0"
   },
   "outputs": [],
   "source": [
    "im2arr = np.array(img_test1)/ 255.0\n",
    "im2arr = im2arr.reshape(1,28,28)"
   ]
  },
  {
   "cell_type": "markdown",
   "metadata": {
    "id": "ugI6jCkGC_-u"
   },
   "source": [
    "## IPO-P: Predicting the digit of an image\n",
    "$M(x)=\\hat{y}$"
   ]
  },
  {
   "cell_type": "code",
   "execution_count": 29,
   "metadata": {
    "colab": {
     "base_uri": "https://localhost:8080/"
    },
    "id": "BEA1TYZdC_-3",
    "outputId": "250a0221-3bbe-417d-af09-2813bcc55cb3"
   },
   "outputs": [
    {
     "name": "stdout",
     "output_type": "stream",
     "text": [
      "[[ 0.48464763 -7.147139   -0.71356976 -1.8099896  -1.2089506   1.7522112\n",
      "   0.89565665 -4.162599    8.258891    1.2091991 ]]\n"
     ]
    }
   ],
   "source": [
    "y_pred = model.predict(im2arr)\n",
    "print(y_pred)\n"
   ]
  },
  {
   "cell_type": "markdown",
   "metadata": {
    "id": "tLXa7H5yrX6B"
   },
   "source": [
    "## IPO-O: output the result of prediction"
   ]
  },
  {
   "cell_type": "markdown",
   "metadata": {
    "id": "44LG8dQeq4MN"
   },
   "source": [
    "__Computes softmax activations__\n",
    "\n",
    "https://www.tensorflow.org/api_docs/python/tf/nn/softmax"
   ]
  },
  {
   "cell_type": "code",
   "execution_count": 31,
   "metadata": {
    "colab": {
     "base_uri": "https://localhost:8080/"
    },
    "id": "OkXVUlpgqt1q",
    "outputId": "372c9282-0f49-485a-9297-925ddf701c10"
   },
   "outputs": [
    {
     "data": {
      "text/plain": [
       "array([[4.1888960e-04, 2.0307500e-07, 1.2639223e-04, 4.2223197e-05,\n",
       "        7.7015648e-05, 1.4879740e-03, 6.3182734e-04, 4.0163000e-06,\n",
       "        9.9634689e-01, 8.6450629e-04]], dtype=float32)"
      ]
     },
     "execution_count": 31,
     "metadata": {
      "tags": []
     },
     "output_type": "execute_result"
    }
   ],
   "source": [
    "y_prob = tf.nn.softmax(y_pred).numpy()\n",
    "y_prob"
   ]
  },
  {
   "cell_type": "markdown",
   "metadata": {
    "id": "FTwRKiX3rfqv"
   },
   "source": [
    "__argmax__\n",
    "Returns the indices of the maximum values along an axis.\n",
    "\n",
    "https://numpy.org/doc/stable/reference/generated/numpy.argmax.html"
   ]
  },
  {
   "cell_type": "code",
   "execution_count": 32,
   "metadata": {
    "colab": {
     "base_uri": "https://localhost:8080/"
    },
    "id": "f2MpRYnKC_-4",
    "outputId": "b4ed7c57-a49c-4d78-b1bd-1636d9f261cc"
   },
   "outputs": [
    {
     "data": {
      "text/plain": [
       "8"
      ]
     },
     "execution_count": 32,
     "metadata": {
      "tags": []
     },
     "output_type": "execute_result"
    }
   ],
   "source": [
    "y_hat =np.argmax(y_prob)\n",
    "y_hat"
   ]
  }
 ],
 "metadata": {
  "accelerator": "GPU",
  "colab": {
   "collapsed_sections": [],
   "name": "00Kissipo-HelloWorld.ipynb",
   "provenance": []
  },
  "kernelspec": {
   "display_name": "Python 3",
   "language": "python",
   "name": "python3"
  },
  "language_info": {
   "codemirror_mode": {
    "name": "ipython",
    "version": 3
   },
   "file_extension": ".py",
   "mimetype": "text/x-python",
   "name": "python",
   "nbconvert_exporter": "python",
   "pygments_lexer": "ipython3",
   "version": "3.7.6"
  }
 },
 "nbformat": 4,
 "nbformat_minor": 1
}
