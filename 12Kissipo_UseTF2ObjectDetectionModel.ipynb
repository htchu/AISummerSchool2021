{
  "nbformat": 4,
  "nbformat_minor": 0,
  "metadata": {
    "colab": {
      "name": "12Kissipo_UseTF2ObjectDetectionModel.ipynb",
      "provenance": [],
      "collapsed_sections": [],
      "toc_visible": true
    },
    "kernelspec": {
      "name": "python3",
      "display_name": "Python 3"
    },
    "language_info": {
      "name": "python"
    }
  },
  "cells": [
    {
      "cell_type": "markdown",
      "metadata": {
        "id": "IhUAV_I1bszO"
      },
      "source": [
        "<table width=\"100%\" border=\"3\">\n",
        "  <tbody>\n",
        "    <tr>\n",
        "      <td width=120><img src=\"https://is4-ssl.mzstatic.com/image/thumb/Purple128/v4/9f/38/cb/9f38cb51-c606-6fd4-54b3-47bfdb06b712/source/256x256bb.jpg\" alt=\"Aidea\" width=\"120\"/></td>\n",
        "      <td align='left'><h1>TensorFlow 2 Object Detection</h1><BR><h2>D1-UseTF2ObjectDetectionModel</h2></td>\n",
        "    </tr>\n",
        "  </tbody>\n",
        "</table>"
      ]
    },
    {
      "cell_type": "markdown",
      "metadata": {
        "id": "RjoqPgqucTPu"
      },
      "source": [
        "# Part 1: Set up the Colab environment to execute Object Detection API with TensorFlow 2\n"
      ]
    },
    {
      "cell_type": "markdown",
      "metadata": {
        "id": "uN0sFtMaMprA"
      },
      "source": [
        "## Step 1: Set up Google drive"
      ]
    },
    {
      "cell_type": "code",
      "metadata": {
        "id": "ssXeS_e0Mwiu"
      },
      "source": [
        "from google.colab import drive\n",
        "drive.mount('/content/drive', force_remount=False)"
      ],
      "execution_count": null,
      "outputs": []
    },
    {
      "cell_type": "markdown",
      "metadata": {
        "id": "Va2rdO55M5Ox"
      },
      "source": [
        "## Step 2: Change working directory to cloud drive"
      ]
    },
    {
      "cell_type": "code",
      "metadata": {
        "id": "OGRNVXUQNDz4"
      },
      "source": [
        "from os import chdir\n",
        "chdir(\"/content/drive/My Drive/\")"
      ],
      "execution_count": null,
      "outputs": []
    },
    {
      "cell_type": "markdown",
      "metadata": {
        "id": "UyX2jURSNJPl"
      },
      "source": [
        "## Step 3: Use the Git clone command to download the Object Detection API"
      ]
    },
    {
      "cell_type": "code",
      "metadata": {
        "id": "fLJGYUC8NWj5"
      },
      "source": [
        "!git clone https://github.com/tensorflow/models"
      ],
      "execution_count": null,
      "outputs": []
    },
    {
      "cell_type": "code",
      "metadata": {
        "id": "iE94sgEjoCBs"
      },
      "source": [
        "!ls /content/drive/MyDrive/models/research"
      ],
      "execution_count": null,
      "outputs": []
    },
    {
      "cell_type": "markdown",
      "metadata": {
        "id": "tkvP_95FNZ-F"
      },
      "source": [
        "## Step 4: Clear git settings"
      ]
    },
    {
      "cell_type": "code",
      "metadata": {
        "id": "EuxjLRiUNnbC"
      },
      "source": [
        "%%bash\n",
        "cd models\n",
        "rm -rf .git"
      ],
      "execution_count": null,
      "outputs": []
    },
    {
      "cell_type": "markdown",
      "metadata": {
        "id": "tzDDahszNpFc"
      },
      "source": [
        "## Step 5: Installation packages"
      ]
    },
    {
      "cell_type": "code",
      "metadata": {
        "id": "jGVaM0f8N5bh"
      },
      "source": [
        "!pip install tf_slim\n",
        "!pip install lvis\n",
        "!pip install tensorflow-addons"
      ],
      "execution_count": null,
      "outputs": []
    },
    {
      "cell_type": "markdown",
      "metadata": {
        "id": "80oPSKg_OMEX"
      },
      "source": [
        "## Step 6: Set up the working environment"
      ]
    },
    {
      "cell_type": "code",
      "metadata": {
        "id": "JqALWtRgOdmx"
      },
      "source": [
        "%%bash\n",
        "cd models/research/\n",
        "protoc object_detection/protos/*.proto --python_out=."
      ],
      "execution_count": null,
      "outputs": []
    },
    {
      "cell_type": "code",
      "metadata": {
        "id": "wvFBNg8TO-xH"
      },
      "source": [
        "%env PYTHONPATH=/env/python:/content/drive/My Drive/models:/content/drive/My Drive/models/research:/content/drive/My Drive/models/research/slim"
      ],
      "execution_count": null,
      "outputs": []
    },
    {
      "cell_type": "code",
      "metadata": {
        "id": "BUUyVBCSPDxw"
      },
      "source": [
        "import sys\n",
        "sys.path.append('/content/drive/My Drive/models')"
      ],
      "execution_count": null,
      "outputs": []
    },
    {
      "cell_type": "code",
      "metadata": {
        "id": "Zgc-RwECDTOS"
      },
      "source": [
        "from os import chdir\n",
        "chdir(\"/content/drive/My Drive/models/research/\")"
      ],
      "execution_count": null,
      "outputs": []
    },
    {
      "cell_type": "markdown",
      "metadata": {
        "id": "5Sqr8mC3PG-i"
      },
      "source": [
        "## Step 7: Test Object Detection API\n"
      ]
    },
    {
      "cell_type": "code",
      "metadata": {
        "id": "_uR7Hn2hPO8I"
      },
      "source": [
        "!python object_detection/builders/model_builder_tf2_test.py"
      ],
      "execution_count": null,
      "outputs": []
    },
    {
      "cell_type": "markdown",
      "metadata": {
        "id": "N5WRaRKIQYFp"
      },
      "source": [
        "# Part 2: Test object detection"
      ]
    },
    {
      "cell_type": "markdown",
      "metadata": {
        "id": "v-P9WQVGQhWk"
      },
      "source": [
        "## Step 1: Download the object detection model pre-trained by CoCo dataset from the TensorFlow website\n",
        "https://cocodataset.org/\n",
        "\n",
        "https://github.com/tensorflow/models/blob/master/research/object_detection/g3doc/tf2_detection_zoo.md"
      ]
    },
    {
      "cell_type": "code",
      "metadata": {
        "id": "HXzTDPdIpbs1"
      },
      "source": [
        "%%bash\n",
        "wget http://download.tensorflow.org/models/object_detection/tf2/20200711/efficientdet_d0_coco17_tpu-32.tar.gz\n",
        "tar -xvf efficientdet_d0_coco17_tpu-32.tar.gz\n",
        "rm -rf efficientdet_d0_coco17_tpu-32.tar.gz"
      ],
      "execution_count": null,
      "outputs": []
    },
    {
      "cell_type": "code",
      "metadata": {
        "id": "2QEYHngVsUve"
      },
      "source": [
        "!pwd"
      ],
      "execution_count": null,
      "outputs": []
    },
    {
      "cell_type": "code",
      "metadata": {
        "id": "qkgRFmWSsY92"
      },
      "source": [
        "!ls"
      ],
      "execution_count": null,
      "outputs": []
    },
    {
      "cell_type": "markdown",
      "metadata": {
        "id": "a9dhP_bgQ6r7"
      },
      "source": [
        "## Step 2: Set the function library required for the execution environment\n"
      ]
    },
    {
      "cell_type": "code",
      "metadata": {
        "id": "vGuul1ryRJBv"
      },
      "source": [
        "import matplotlib\n",
        "import matplotlib.pyplot as plt\n",
        "\n",
        "import io\n",
        "import scipy.misc\n",
        "import numpy as np\n",
        "from six import BytesIO\n",
        "from PIL import Image, ImageDraw, ImageFont\n",
        "\n",
        "import tensorflow as tf\n",
        "\n",
        "from object_detection.utils import label_map_util\n",
        "from object_detection.utils import config_util\n",
        "from object_detection.utils import visualization_utils as viz_utils\n",
        "from object_detection.builders import model_builder\n",
        "\n",
        "%matplotlib inline"
      ],
      "execution_count": null,
      "outputs": []
    },
    {
      "cell_type": "code",
      "metadata": {
        "id": "Vs1xNOoaRTLS"
      },
      "source": [
        "def load_image_into_numpy_array(path):\n",
        "  #Load an image from file into a numpy array.\n",
        "  img_data = tf.io.gfile.GFile(path, 'rb').read()\n",
        "  image = Image.open(BytesIO(img_data))\n",
        "  image = image.convert(\"RGB\")\n",
        "  (im_width, im_height) = image.size\n",
        "  return np.array(image.getdata()).reshape(\n",
        "      (im_height, im_width, 3)).astype(np.uint8)\n",
        "\n",
        "def get_keypoint_tuples(eval_config):\n",
        "  \"\"\"Return a tuple list of keypoint edges from the eval config.\n",
        "  \n",
        "  Args:\n",
        "    eval_config: an eval config containing the keypoint edges\n",
        "  \n",
        "  Returns:\n",
        "    a list of edge tuples, each in the format (start, end)\n",
        "  \"\"\"\n",
        "  tuple_list = []\n",
        "  kp_list = eval_config.keypoint_edge\n",
        "  for edge in kp_list:\n",
        "    tuple_list.append((edge.start, edge.end))\n",
        "  return tuple_list"
      ],
      "execution_count": null,
      "outputs": []
    },
    {
      "cell_type": "markdown",
      "metadata": {
        "id": "gFAAuXIvEoeD"
      },
      "source": [
        "## Step 3: Setting up the model"
      ]
    },
    {
      "cell_type": "code",
      "metadata": {
        "id": "OfxmgwUfRvns"
      },
      "source": [
        "import os\n",
        "pipeline_config = 'efficientdet_d0_coco17_tpu-32/pipeline.config'\n",
        "model_dir = 'efficientdet_d0_coco17_tpu-32/checkpoint'\n",
        "\n",
        "# Load pipeline config and build a detection model\n",
        "configs = config_util.get_configs_from_pipeline_file(pipeline_config)"
      ],
      "execution_count": null,
      "outputs": []
    },
    {
      "cell_type": "code",
      "metadata": {
        "id": "ig6NySRsE_bc"
      },
      "source": [
        "def get_model_detection_function(model):\n",
        "  \"\"\"Get a tf.function for detection.\"\"\"\n",
        "  @tf.function\n",
        "  def detect_fn(image):\n",
        "    \"\"\"Detect objects in image.\"\"\"\n",
        "    image, shapes = model.preprocess(image)\n",
        "    prediction_dict = model.predict(image, shapes)\n",
        "    detections = model.postprocess(prediction_dict, shapes)\n",
        "    return detections, prediction_dict, tf.reshape(shapes, [-1])\n",
        "\n",
        "  return detect_fn"
      ],
      "execution_count": null,
      "outputs": []
    },
    {
      "cell_type": "code",
      "metadata": {
        "id": "Y1CisvKTSBzd"
      },
      "source": [
        "model_config = configs['model']\n",
        "detection_model = model_builder.build(model_config=model_config, is_training=False)\n",
        "detect_fn = get_model_detection_function(detection_model)"
      ],
      "execution_count": null,
      "outputs": []
    },
    {
      "cell_type": "code",
      "metadata": {
        "id": "xo6zgR_CE3wP"
      },
      "source": [
        "# Restore checkpoint\n",
        "ckpt = tf.compat.v2.train.Checkpoint(model=detection_model)\n",
        "ckpt.restore(os.path.join(model_dir, 'ckpt-0')).expect_partial()"
      ],
      "execution_count": null,
      "outputs": []
    },
    {
      "cell_type": "code",
      "metadata": {
        "id": "_9VxOtaPE_6w"
      },
      "source": [
        "label_map_path = configs['eval_input_config'].label_map_path\n",
        "label_map = label_map_util.load_labelmap(label_map_path)\n",
        "categories = label_map_util.convert_label_map_to_categories(\n",
        "    label_map,\n",
        "    max_num_classes=label_map_util.get_max_label_map_index(label_map),\n",
        "    use_display_name=True)\n",
        "category_index = label_map_util.create_category_index(categories)\n",
        "label_map_dict = label_map_util.get_label_map_dict(label_map, use_display_name=True)"
      ],
      "execution_count": null,
      "outputs": []
    },
    {
      "cell_type": "markdown",
      "metadata": {
        "id": "AuNTJqcGE7K_"
      },
      "source": [
        "## Step 4: Import image files and convert to Tensor"
      ]
    },
    {
      "cell_type": "code",
      "metadata": {
        "id": "6t40lVwFSTSI"
      },
      "source": [
        "image_dir = 'object_detection/test_images/'\n",
        "image_path = os.path.join(image_dir, 'image3.jpg')\n",
        "image_np = load_image_into_numpy_array(image_path)"
      ],
      "execution_count": null,
      "outputs": []
    },
    {
      "cell_type": "code",
      "metadata": {
        "id": "ttLaKGjQ0Hna"
      },
      "source": [
        "test_image = Image.open(image_path)\n",
        "test_image=test_image.resize((512, 512))\n",
        "display(test_image)"
      ],
      "execution_count": null,
      "outputs": []
    },
    {
      "cell_type": "code",
      "metadata": {
        "id": "7I_XvcHwFUwN"
      },
      "source": [
        "image_np.shape"
      ],
      "execution_count": null,
      "outputs": []
    },
    {
      "cell_type": "code",
      "metadata": {
        "id": "nLz0XlYwFQPg"
      },
      "source": [
        "input_tensor = tf.convert_to_tensor(\n",
        "    np.expand_dims(image_np, 0), dtype=tf.float32)"
      ],
      "execution_count": null,
      "outputs": []
    },
    {
      "cell_type": "code",
      "metadata": {
        "id": "NSP83Lt4FTZ0"
      },
      "source": [
        "input_tensor.shape"
      ],
      "execution_count": null,
      "outputs": []
    },
    {
      "cell_type": "code",
      "metadata": {
        "id": "eXkeKdncwDD0"
      },
      "source": [
        "type(input_tensor)"
      ],
      "execution_count": null,
      "outputs": []
    },
    {
      "cell_type": "markdown",
      "metadata": {
        "id": "MB37hVb5SZyL"
      },
      "source": [
        "## Step 5: Do detection"
      ]
    },
    {
      "cell_type": "code",
      "metadata": {
        "id": "h9cc8QLuT9RC"
      },
      "source": [
        "detections, predictions_dict, shapes = detect_fn(input_tensor)"
      ],
      "execution_count": null,
      "outputs": []
    },
    {
      "cell_type": "code",
      "metadata": {
        "id": "gw-WsmBxRx4o"
      },
      "source": [
        "print(detections[\"detection_scores\"])"
      ],
      "execution_count": null,
      "outputs": []
    },
    {
      "cell_type": "markdown",
      "metadata": {
        "id": "y4nDC3OeFiP9"
      },
      "source": [
        "## Step 6: Check detection result"
      ]
    },
    {
      "cell_type": "code",
      "metadata": {
        "id": "2BT1jg10SpwH"
      },
      "source": [
        "label_id_offset = 1\n",
        "image_np_with_detections = image_np.copy()\n",
        "\n",
        "viz_utils.visualize_boxes_and_labels_on_image_array(\n",
        "      image_np_with_detections,\n",
        "      detections['detection_boxes'][0].numpy(),\n",
        "      (detections['detection_classes'][0].numpy() + label_id_offset).astype(int),\n",
        "      detections['detection_scores'][0].numpy(),\n",
        "      category_index,\n",
        "      use_normalized_coordinates=True,\n",
        "      max_boxes_to_draw=200,\n",
        "      min_score_thresh=.30,\n",
        "      agnostic_mode=False)\n",
        "\n",
        "plt.figure(figsize=(12,16))\n",
        "plt.imshow(image_np_with_detections)\n",
        "plt.show()"
      ],
      "execution_count": null,
      "outputs": []
    }
  ]
}