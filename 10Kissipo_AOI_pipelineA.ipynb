{
  "nbformat": 4,
  "nbformat_minor": 0,
  "metadata": {
    "accelerator": "GPU",
    "colab": {
      "name": "AUAOI2_AOI_pipeline.ipynb",
      "provenance": [],
      "collapsed_sections": []
    },
    "kernelspec": {
      "display_name": "Python 3",
      "language": "python",
      "name": "python3"
    },
    "language_info": {
      "codemirror_mode": {
        "name": "ipython",
        "version": 3
      },
      "file_extension": ".py",
      "mimetype": "text/x-python",
      "name": "python",
      "nbconvert_exporter": "python",
      "pygments_lexer": "ipython3",
      "version": "3.7.6"
    }
  },
  "cells": [
    {
      "cell_type": "markdown",
      "metadata": {
        "id": "vpfvx3zSO-je"
      },
      "source": [
        "<table width=\"100%\" border=\"3\">\n",
        "  <tbody>\n",
        "    <tr>\n",
        "      <td ><img src=\"https://aidea-web.tw/images/web/logo_white.png\" alt=\"Aidea\" width=\"400\"/></td>\n",
        "      <td align='left'><h1>AUAI Exercise 2: AOI Pipeline </h1></td>\n",
        "    </tr>\n",
        "  </tbody>\n",
        "</table>"
      ]
    },
    {
      "cell_type": "markdown",
      "metadata": {
        "id": "ZOuhb2IiDVpm"
      },
      "source": [
        "# Exercise 2: Full solution\n",
        "* single CNN model\n",
        "* ImageDataGenerator\n",
        "* ModelCheckpoint\n",
        "* EarlyStopping\n",
        "* Submit results"
      ]
    },
    {
      "cell_type": "markdown",
      "metadata": {
        "id": "bXEzgNlpP_sv"
      },
      "source": [
        "## Step 1: Load the dataset from google drive"
      ]
    },
    {
      "cell_type": "code",
      "metadata": {
        "id": "7VE-8D4WP-zd"
      },
      "source": [
        "from google_drive_downloader import GoogleDriveDownloader\n",
        "GoogleDriveDownloader.download_file_from_google_drive(file_id='1tovCO2gsjesjJ8OsfHgahyt-xxxxxxxx',dest_path='./content', unzip=True)"
      ],
      "execution_count": null,
      "outputs": []
    },
    {
      "cell_type": "markdown",
      "metadata": {
        "id": "kHlgUk9qQLRu"
      },
      "source": [
        "## Step 2: Import python libraries"
      ]
    },
    {
      "cell_type": "code",
      "metadata": {
        "id": "OCJBD9x1Bv8n"
      },
      "source": [
        "import tensorflow as tf\n",
        "tf.config.experimental.set_memory_growth(tf.config.list_physical_devices('GPU')[0], True)\n",
        "print(tf.__version__)\n",
        "print(tf.config.list_physical_devices('GPU'))"
      ],
      "execution_count": null,
      "outputs": []
    },
    {
      "cell_type": "code",
      "metadata": {
        "id": "Gl5ZMXU3S_rH"
      },
      "source": [
        "import numpy as np\n",
        "import matplotlib.pyplot as plt\n",
        "%matplotlib inline"
      ],
      "execution_count": null,
      "outputs": []
    },
    {
      "cell_type": "code",
      "metadata": {
        "id": "cLyRMQLrFUpY"
      },
      "source": [
        "from tensorflow.keras import Sequential\n",
        "from tensorflow.keras.models import Model\n",
        "from tensorflow.keras.layers import Dense, Activation, Flatten\n",
        "from tensorflow.keras.layers import Input\n",
        "from tensorflow.keras.layers import Dropout, Flatten, Activation\n",
        "from tensorflow.keras.layers import Conv2D, MaxPooling2D\n",
        "from tensorflow.keras.optimizers import Adam,SGD,Adagrad,Adadelta,RMSprop"
      ],
      "execution_count": null,
      "outputs": []
    },
    {
      "cell_type": "markdown",
      "metadata": {
        "id": "4TXVhSDQQXXO"
      },
      "source": [
        "## Step 3: read the training set"
      ]
    },
    {
      "cell_type": "code",
      "metadata": {
        "id": "pL3o453NU26h"
      },
      "source": [
        "import pandas as pd\n",
        "df_train = pd.read_csv(\"train.csv\",dtype=str )\n",
        "print(df_train.shape)"
      ],
      "execution_count": null,
      "outputs": []
    },
    {
      "cell_type": "code",
      "metadata": {
        "id": "tuDemzs5VKFk"
      },
      "source": [
        "df_train.head()"
      ],
      "execution_count": null,
      "outputs": []
    },
    {
      "cell_type": "code",
      "metadata": {
        "id": "-cVo6Gq4FApt"
      },
      "source": [
        "train_files = df_train.iloc[:,0].values\n",
        "train_labels = df_train.iloc[:,1].values\n",
        "print(train_labels[:10])"
      ],
      "execution_count": null,
      "outputs": []
    },
    {
      "cell_type": "markdown",
      "metadata": {
        "id": "PbZydP89TWuN"
      },
      "source": [
        "## Step 4: Show statistics of training images "
      ]
    },
    {
      "cell_type": "code",
      "metadata": {
        "id": "TtQV07_cFK7Y"
      },
      "source": [
        "import seaborn as sns\n",
        "g = sns.countplot(train_labels)"
      ],
      "execution_count": null,
      "outputs": []
    },
    {
      "cell_type": "code",
      "metadata": {
        "id": "8YKcKTBabLig"
      },
      "source": [
        "num_classes=6"
      ],
      "execution_count": null,
      "outputs": []
    },
    {
      "cell_type": "markdown",
      "metadata": {
        "id": "9VfcJvPCTwjX"
      },
      "source": [
        "## Step 5: Choose one of CNN models \n",
        "* DenseNet121(...): Instantiates the Densenet121 architecture.\n",
        "* DenseNet169(...): Instantiates the Densenet169 architecture.\n",
        "* DenseNet201(...): Instantiates the Densenet201 architecture.\n",
        "* InceptionResNetV2(...): Instantiates the Inception-ResNet v2 architecture.\n",
        "* InceptionV3(...): Instantiates the Inception v3 architecture.\n",
        "* MobileNet(...): Instantiates the MobileNet architecture.\n",
        "* MobileNetV2(...): Instantiates the MobileNetV2 architecture.\n",
        "* NASNetLarge(...): Instantiates a NASNet model in ImageNet mode.\n",
        "* NASNetMobile(...): Instantiates a Mobile NASNet model in ImageNet mode.\n",
        "* ResNet101(...): Instantiates the ResNet101 architecture.\n",
        "* ResNet101V2(...): Instantiates the ResNet101V2 architecture.\n",
        "* ResNet152(...): Instantiates the ResNet152 architecture.\n",
        "* ResNet152V2(...): Instantiates the ResNet152V2 architecture.\n",
        "* ResNet50(...): Instantiates the ResNet50 architecture.\n",
        "* ResNet50V2(...): Instantiates the ResNet50V2 architecture.\n",
        "* VGG16(...): Instantiates the VGG16 model.\n",
        "* VGG19(...): Instantiates the VGG19 architecture.\n",
        "* Xception(...): Instantiates the Xception architecture.\n"
      ]
    },
    {
      "cell_type": "code",
      "metadata": {
        "id": "ndL1lGGwEsOM"
      },
      "source": [
        "from tensorflow.keras.applications import InceptionV3\n",
        "model = InceptionV3(include_top = True, input_shape=(299,299,3), weights=None, classes=num_classes)"
      ],
      "execution_count": null,
      "outputs": []
    },
    {
      "cell_type": "code",
      "metadata": {
        "id": "MARzRhyY49NB"
      },
      "source": [
        "model.summary()"
      ],
      "execution_count": null,
      "outputs": []
    },
    {
      "cell_type": "markdown",
      "metadata": {
        "id": "xQgZdcYwUVqG"
      },
      "source": [
        "## Step 6: Instancing an ImageDataGenerator"
      ]
    },
    {
      "cell_type": "code",
      "metadata": {
        "id": "2FglrsMfXMBC"
      },
      "source": [
        "from tensorflow.keras.preprocessing.image import ImageDataGenerator\n",
        "from tensorflow.keras.applications.xception import preprocess_input\n",
        "img_gen = ImageDataGenerator(preprocessing_function=preprocess_input)"
      ],
      "execution_count": null,
      "outputs": []
    },
    {
      "cell_type": "markdown",
      "metadata": {
        "id": "s5oRwE1UUiFf"
      },
      "source": [
        "## Step 7: Set up a train_generator with flow_from_dataframe"
      ]
    },
    {
      "cell_type": "code",
      "metadata": {
        "id": "gIAZ72MWSzmb"
      },
      "source": [
        "train_generator = img_gen.flow_from_dataframe(dataframe=df_train,\n",
        "            directory=\"train_images\",\n",
        "            x_col=\"ID\",\n",
        "            y_col=\"Label\",\n",
        "            subset=None,\n",
        "            batch_size=8,\n",
        "            shuffle=False,\n",
        "            class_mode=\"categorical\",\n",
        "            color_mode=\"rgb\",\n",
        "            target_size=(299,299))"
      ],
      "execution_count": null,
      "outputs": []
    },
    {
      "cell_type": "code",
      "metadata": {
        "id": "CzqOQhERYbGs"
      },
      "source": [
        "train_generator.class_indices"
      ],
      "execution_count": null,
      "outputs": []
    },
    {
      "cell_type": "markdown",
      "metadata": {
        "id": "n3FgxCjpVG3H"
      },
      "source": [
        "## Step 8: step_size_train"
      ]
    },
    {
      "cell_type": "code",
      "metadata": {
        "id": "Fu7E0m3ucZCJ"
      },
      "source": [
        "if train_generator.n % train_generator.batch_size ==0:\n",
        "  step_size_train=train_generator.n//train_generator.batch_size\n",
        "else:\n",
        "  step_size_train=train_generator.n//train_generator.batch_size + 1\n",
        "print(step_size_train)"
      ],
      "execution_count": null,
      "outputs": []
    },
    {
      "cell_type": "markdown",
      "metadata": {
        "id": "0cggn0VQVJUa"
      },
      "source": [
        "## Step 9: ModelCheckpoint"
      ]
    },
    {
      "cell_type": "code",
      "metadata": {
        "id": "VgdfV2r-K7Hj"
      },
      "source": [
        "# Include the epoch in the file name (uses `str.format`)\n",
        "import os\n",
        "checkpoint_path = \"training_cp/cp-{epoch:03d}.ckpt\"\n",
        "checkpoint_dir = os.path.dirname(checkpoint_path)\n",
        "# Create a callback that saves the model's weights \n",
        "cp_callback = tf.keras.callbacks.ModelCheckpoint(filepath=checkpoint_path, save_weights_only=True)"
      ],
      "execution_count": null,
      "outputs": []
    },
    {
      "cell_type": "markdown",
      "metadata": {
        "id": "GUSuhwUzVPVH"
      },
      "source": [
        "## Step 10: EarlyStopping"
      ]
    },
    {
      "cell_type": "code",
      "metadata": {
        "id": "MeWdoKDPLEoG"
      },
      "source": [
        "# Create a callback that stop the model \n",
        "es_callback = tf.keras.callbacks.EarlyStopping(monitor='loss', patience=5)"
      ],
      "execution_count": null,
      "outputs": []
    },
    {
      "cell_type": "markdown",
      "metadata": {
        "id": "_s2HkH4iVWJp"
      },
      "source": [
        "## Step 11: Compile model"
      ]
    },
    {
      "cell_type": "code",
      "metadata": {
        "id": "2ILyWZe8G1cX"
      },
      "source": [
        "#compile model using accuracy to measure model performance\n",
        "from tensorflow.keras import optimizers\n",
        "model.compile(loss='categorical_crossentropy',\n",
        "            optimizer=optimizers.Adam(lr=3e-3),\n",
        "            metrics=['accuracy'])"
      ],
      "execution_count": null,
      "outputs": []
    },
    {
      "cell_type": "markdown",
      "metadata": {
        "id": "AjzOG579Vcxx"
      },
      "source": [
        "## Step 12: Train model"
      ]
    },
    {
      "cell_type": "code",
      "metadata": {
        "id": "31K9h5ePJ5-O"
      },
      "source": [
        "hist = model.fit_generator(generator=train_generator, steps_per_epoch=step_size_train, callbacks=[cp_callback, es_callback], epochs=100)"
      ],
      "execution_count": null,
      "outputs": []
    },
    {
      "cell_type": "markdown",
      "metadata": {
        "id": "XKKEeCDJVufY"
      },
      "source": [
        "## Step 13: Evaluate saved checkpoints"
      ]
    },
    {
      "cell_type": "code",
      "metadata": {
        "id": "-hzIeF9RMBHg"
      },
      "source": [
        "##checkpoint 1\n",
        "model.load_weights(\"training_cp/cp-034.ckpt\")\n",
        "train_generator.reset()\n",
        "model.evaluate_generator(generator=train_generator, steps=step_size_train, verbose=1)"
      ],
      "execution_count": null,
      "outputs": []
    },
    {
      "cell_type": "code",
      "metadata": {
        "id": "13RQaTOPXz8Z"
      },
      "source": [
        "##checkpoint 2\n",
        "model.load_weights(\"training_cp/cp-035.ckpt\")\n",
        "train_generator.reset()\n",
        "model.evaluate_generator(generator=train_generator, steps=step_size_train, verbose=1)"
      ],
      "execution_count": null,
      "outputs": []
    },
    {
      "cell_type": "code",
      "metadata": {
        "id": "zxpAhXHWX0lN"
      },
      "source": [
        "##checkpoint 3\n",
        "model.load_weights(\"training_cp/cp-033.ckpt\")\n",
        "train_generator.reset()\n",
        "model.evaluate_generator(generator=train_generator, steps=step_size_train, verbose=1)"
      ],
      "execution_count": null,
      "outputs": []
    },
    {
      "cell_type": "markdown",
      "metadata": {
        "id": "rJ9oNZwlYCLk"
      },
      "source": [
        "## Step 14: Save the trained model"
      ]
    },
    {
      "cell_type": "code",
      "metadata": {
        "id": "0ZuxezvUMV0W"
      },
      "source": [
        "model.load_weights(\"training_cp/cp-034.ckpt\")\n",
        "model.save(\"AOI-InceptionV3-0626.h5\")"
      ],
      "execution_count": null,
      "outputs": []
    },
    {
      "cell_type": "markdown",
      "metadata": {
        "id": "E4Kdl8aBYWpQ"
      },
      "source": [
        "## Step 15: Check training results"
      ]
    },
    {
      "cell_type": "code",
      "metadata": {
        "id": "snwxn3uEidj8"
      },
      "source": [
        "#y_predictions = model.predict(X_train, batch_size=20)\n",
        "train_generator.reset()\n",
        "y_predictions = model.predict_generator(generator=train_generator, steps=step_size_train, verbose=1)"
      ],
      "execution_count": null,
      "outputs": []
    },
    {
      "cell_type": "code",
      "metadata": {
        "id": "-3LFfE8bPjOD"
      },
      "source": [
        "print(y_predictions[:2])\n",
        "type(y_predictions)"
      ],
      "execution_count": null,
      "outputs": []
    },
    {
      "cell_type": "code",
      "metadata": {
        "id": "Apz1b0obPql5"
      },
      "source": [
        "import numpy as np\n",
        "predicts = np.argmax(y_predictions,axis=1)\n",
        "print(predicts[0:10])"
      ],
      "execution_count": null,
      "outputs": []
    },
    {
      "cell_type": "code",
      "metadata": {
        "id": "U8KJfM2AVNIg"
      },
      "source": [
        "labels = train_labels.astype(int)\n",
        "print(labels[:10])"
      ],
      "execution_count": null,
      "outputs": []
    },
    {
      "cell_type": "markdown",
      "metadata": {
        "id": "0K0X0oUSZMCl"
      },
      "source": [
        "## Step 16: Analyze training results\n"
      ]
    },
    {
      "cell_type": "code",
      "metadata": {
        "id": "aZ3NL3iNVYFy"
      },
      "source": [
        "from sklearn.metrics import confusion_matrix\n",
        "confusion=confusion_matrix(labels, predicts)\n",
        "print(confusion)"
      ],
      "execution_count": null,
      "outputs": []
    },
    {
      "cell_type": "code",
      "metadata": {
        "id": "AEwJyegWXWKW"
      },
      "source": [
        "train_num = 2528\n",
        "overkill= []\n",
        "underkill = []\n",
        "for i in range(train_num):\n",
        "  if labels[i] == 0 and predicts[i] !=0:\n",
        "    overkill.append(i)\n",
        "  if labels[i] != 0 and predicts[i] ==0:\n",
        "    underkill.append(i)\n",
        "print('# of overkill= {}; # of underkill= {} '.format(len(overkill), len(underkill)))"
      ],
      "execution_count": null,
      "outputs": []
    },
    {
      "cell_type": "markdown",
      "metadata": {
        "id": "oB5cwshcZdRo"
      },
      "source": [
        "## Step 17: Load the test set "
      ]
    },
    {
      "cell_type": "code",
      "metadata": {
        "id": "gH3N656tHvVF"
      },
      "source": [
        "df_test = pd.read_csv(\"test.csv\",dtype=str)\n",
        "print(df_test.shape)"
      ],
      "execution_count": null,
      "outputs": []
    },
    {
      "cell_type": "code",
      "metadata": {
        "id": "hukndpFCnTBM"
      },
      "source": [
        "df_test.head()"
      ],
      "execution_count": null,
      "outputs": []
    },
    {
      "cell_type": "code",
      "metadata": {
        "id": "26sEKiQYH2sr"
      },
      "source": [
        "test_files  = df_test.iloc[:,0].values\n",
        "test_labels = df_test.iloc[:,1].values\n",
        "print(test_labels[:10])"
      ],
      "execution_count": null,
      "outputs": []
    },
    {
      "cell_type": "markdown",
      "metadata": {
        "id": "_BLG-wtcZvze"
      },
      "source": [
        "## Step 18: Set up a test_generator with flow_from_dataframe"
      ]
    },
    {
      "cell_type": "code",
      "metadata": {
        "id": "rjzR0cmDjPT-"
      },
      "source": [
        "test_generator = img_gen.flow_from_dataframe(dataframe=df_test,\n",
        "            directory=\"test_images\",\n",
        "            x_col=\"ID\",\n",
        "            y_col=\"Label\",\n",
        "            batch_size=32,\n",
        "            shuffle=False,\n",
        "            class_mode=None,\n",
        "            target_size=(299,299))"
      ],
      "execution_count": null,
      "outputs": []
    },
    {
      "cell_type": "markdown",
      "metadata": {
        "id": "WkKvBn2paAYi"
      },
      "source": [
        "## Step 19: step_size_test"
      ]
    },
    {
      "cell_type": "code",
      "metadata": {
        "id": "c3z-YfOEn0UF"
      },
      "source": [
        "if test_generator.n % test_generator.batch_size ==0:\n",
        "  step_size_test=test_generator.n//test_generator.batch_size\n",
        "else:\n",
        "  step_size_test=test_generator.n//test_generator.batch_size + 1\n",
        "print(step_size_test)"
      ],
      "execution_count": null,
      "outputs": []
    },
    {
      "cell_type": "markdown",
      "metadata": {
        "id": "wzBR-D2-abER"
      },
      "source": [
        "## Step 20: Check test results"
      ]
    },
    {
      "cell_type": "code",
      "metadata": {
        "id": "chRywd4OnsFK"
      },
      "source": [
        "#y_predictions = model.predict(X_train, batch_size=20)\n",
        "test_generator.reset()\n",
        "y_predictions = model.predict_generator(generator=test_generator, steps=step_size_test,verbose=1)"
      ],
      "execution_count": null,
      "outputs": []
    },
    {
      "cell_type": "code",
      "metadata": {
        "id": "9UyO5HWMkRl4"
      },
      "source": [
        "import numpy as np\n",
        "predicts=np.argmax(y_predictions,axis=1)\n",
        "predicts[:10]"
      ],
      "execution_count": null,
      "outputs": []
    },
    {
      "cell_type": "markdown",
      "metadata": {
        "id": "iqkymIOfaeg1"
      },
      "source": [
        "## Step 21: Output test results"
      ]
    },
    {
      "cell_type": "code",
      "metadata": {
        "id": "0sXBA6kypHZd"
      },
      "source": [
        "df_out = pd.DataFrame(df_test)\n",
        "df_out.shape"
      ],
      "execution_count": null,
      "outputs": []
    },
    {
      "cell_type": "code",
      "metadata": {
        "id": "Z5sYBeoVIAKA"
      },
      "source": [
        "df_out['Label'] = predicts\n",
        "df_out.to_csv(\"0626-xception.csv\", index=False)"
      ],
      "execution_count": null,
      "outputs": []
    }
  ]
}