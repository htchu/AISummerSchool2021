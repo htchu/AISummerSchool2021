{
  "nbformat": 4,
  "nbformat_minor": 0,
  "metadata": {
    "accelerator": "GPU",
    "colab": {
      "name": "15Kissipo_Style_transfer.ipynb",
      "provenance": [],
      "collapsed_sections": [],
      "toc_visible": true
    },
    "kernelspec": {
      "display_name": "Python 3",
      "name": "python3"
    }
  },
  "cells": [
    {
      "cell_type": "markdown",
      "metadata": {
        "id": "g_nWetWWd_ns"
      },
      "source": [
        "# Kissipo Deep learning for Style Transfer\n",
        "\n",
        "![Style Transfer](https://ithelp.ithome.com.tw/upload/images/20171208/20001976DytMaXo2O0.png) \n",
        "\n",
        "* Content Image(C)\n",
        "* Style Image(S)\n",
        "* Generated Image (G)"
      ]
    },
    {
      "cell_type": "markdown",
      "metadata": {
        "id": "U8ajP_u73s6m"
      },
      "source": [
        "## Step 1: Import modules\n"
      ]
    },
    {
      "cell_type": "code",
      "metadata": {
        "id": "NyftRTSMuwue"
      },
      "source": [
        "import tensorflow as tf\n",
        "import tensorflow_hub as hub\n",
        "import numpy as np\n",
        "from PIL import Image\n",
        "from IPython.display import display"
      ],
      "execution_count": null,
      "outputs": []
    },
    {
      "cell_type": "markdown",
      "metadata": {
        "id": "YMzChXSlKTA2"
      },
      "source": [
        "## Step 2: (IPO-M) Load a model from TF-Hub"
      ]
    },
    {
      "cell_type": "code",
      "metadata": {
        "id": "iYSLexgRKSh-"
      },
      "source": [
        "hub_model = hub.load('https://tfhub.dev/google/magenta/arbitrary-image-stylization-v1-256/2')"
      ],
      "execution_count": null,
      "outputs": []
    },
    {
      "cell_type": "markdown",
      "metadata": {
        "id": "AYyf_LHZCe64"
      },
      "source": [
        "## Step 3: (IPO-I) Read a content image\n",
        "\n"
      ]
    },
    {
      "cell_type": "code",
      "metadata": {
        "id": "QO-tMQ2NaMV0"
      },
      "source": [
        "content_image = Image.open('content2.bmp')\n",
        "content_image=content_image.resize((512, 512))\n",
        "display(content_image)"
      ],
      "execution_count": null,
      "outputs": []
    },
    {
      "cell_type": "markdown",
      "metadata": {
        "id": "_dHX4bdoEuG7"
      },
      "source": [
        "## Step 4: (IPO-I) Read a style image"
      ]
    },
    {
      "cell_type": "code",
      "metadata": {
        "id": "MaaoPN9Hagt7"
      },
      "source": [
        "style_image = Image.open('style2.bmp')\n",
        "style_image=style_image.resize((512, 512))\n",
        "display(style_image)"
      ],
      "execution_count": null,
      "outputs": []
    },
    {
      "cell_type": "markdown",
      "metadata": {
        "id": "t0_pPorranlA"
      },
      "source": [
        "## Step 5: (IPO-I) model input\n"
      ]
    },
    {
      "cell_type": "code",
      "metadata": {
        "id": "HA0mt84Mamc_"
      },
      "source": [
        "content_arr = np.array(content_image)/ 255.0\n",
        "content_arr = content_arr.reshape(1,512,512,3)\n",
        "content_tensor = tf.image.convert_image_dtype(content_arr, tf.float32)\n",
        "\n",
        "style_arr = np.array(style_image)/ 255.0\n",
        "style_arr = style_arr.reshape(1,512,512,3)\n",
        "style_tensor = tf.image.convert_image_dtype(style_arr, tf.float32)"
      ],
      "execution_count": null,
      "outputs": []
    },
    {
      "cell_type": "markdown",
      "metadata": {
        "id": "09dsWH8bbBpa"
      },
      "source": [
        "## Step 6: (IPO-P) Generate style-transfered images\n",
        "$M(X_c, X_s)=G$"
      ]
    },
    {
      "cell_type": "code",
      "metadata": {
        "id": "7_7adMzDGz0r"
      },
      "source": [
        "output_tensor = hub_model(tf.constant(content_tensor), tf.constant(style_tensor))[0]"
      ],
      "execution_count": null,
      "outputs": []
    },
    {
      "cell_type": "markdown",
      "metadata": {
        "id": "gEIGZWepGxCn"
      },
      "source": [
        "## Step 7: (IPO-O) Output generated image"
      ]
    },
    {
      "cell_type": "code",
      "metadata": {
        "id": "dISPUUGRbB67"
      },
      "source": [
        "output_tensor = output_tensor*255\n",
        "output_arr = np.array(output_tensor, dtype=np.uint8)\n",
        "output_arr = output_arr.reshape(512,512,3)\n",
        "output_image=Image.fromarray(output_arr)\n",
        "display(output_image)"
      ],
      "execution_count": null,
      "outputs": []
    },
    {
      "cell_type": "markdown",
      "metadata": {
        "id": "H_F0I7-ifEbW"
      },
      "source": [
        "## Step 8: (IPO-O) Save the generated image"
      ]
    },
    {
      "cell_type": "code",
      "metadata": {
        "id": "3vrtVLOGe6wh"
      },
      "source": [
        "output_image.save(\"styled.jpg\")"
      ],
      "execution_count": null,
      "outputs": []
    }
  ]
}