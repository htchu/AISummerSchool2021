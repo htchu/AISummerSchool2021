{
  "nbformat": 4,
  "nbformat_minor": 0,
  "metadata": {
    "colab": {
      "name": "14Kissipo_D3_MBSH_Baseline_Solution.ipynb",
      "provenance": [],
      "collapsed_sections": [],
      "machine_shape": "hm"
    },
    "kernelspec": {
      "name": "python3",
      "display_name": "Python 3"
    },
    "language_info": {
      "name": "python"
    },
    "accelerator": "GPU"
  },
  "cells": [
    {
      "cell_type": "markdown",
      "metadata": {
        "id": "hErNn_HDor3u"
      },
      "source": [
        "<table width=\"100%\" border=\"3\">\n",
        "  <tbody>\n",
        "    <tr>\n",
        "      <td width=120><img src=\"https://is4-ssl.mzstatic.com/image/thumb/Purple128/v4/9f/38/cb/9f38cb51-c606-6fd4-54b3-47bfdb06b712/source/256x256bb.jpg\" alt=\"Aidea\" width=\"120\"/></td>\n",
        "      <td align='left'><h1>TensorFlow 2 Object Detection</h1><BR><h2>D3-MBSH Baseline Solution</h2></td>\n",
        "    </tr>\n",
        "  </tbody>\n",
        "</table>"
      ]
    },
    {
      "cell_type": "markdown",
      "metadata": {
        "id": "-10U2ra9pPPG"
      },
      "source": [
        "# Baseline Solution for Mosquito Breeding Site Hunting \n",
        "\n",
        "__IEEE ICIP 2019 Grand Challenge__ https://aidea-web.tw/icip\n",
        "\n"
      ]
    },
    {
      "cell_type": "markdown",
      "metadata": {
        "id": "SUGtb4VupgbT"
      },
      "source": [
        "## Step 1: Mount google drive"
      ]
    },
    {
      "cell_type": "code",
      "metadata": {
        "id": "1eztiLVyqK78"
      },
      "source": [
        "from google.colab import drive\n",
        "drive.mount('/content/drive', force_remount=False)"
      ],
      "execution_count": null,
      "outputs": []
    },
    {
      "cell_type": "markdown",
      "metadata": {
        "id": "qOXpqitVpur6"
      },
      "source": [
        "## Step 5: Install packages"
      ]
    },
    {
      "cell_type": "code",
      "metadata": {
        "id": "dlu6pKzsAEv_"
      },
      "source": [
        "!pip install tf_slim\n",
        "!pip install lvis\n",
        "!pip install tensorflow-addons"
      ],
      "execution_count": null,
      "outputs": []
    },
    {
      "cell_type": "markdown",
      "metadata": {
        "id": "MOLoPnwGp0By"
      },
      "source": [
        "## Step 6: Set up the working environment"
      ]
    },
    {
      "cell_type": "code",
      "metadata": {
        "id": "IVGHW74xAW7v"
      },
      "source": [
        "%env PYTHONPATH=/env/python:/content/drive/My Drive/models:/content/drive/My Drive/models/research:/content/drive/My Drive/models/research/slim"
      ],
      "execution_count": null,
      "outputs": []
    },
    {
      "cell_type": "code",
      "metadata": {
        "id": "KCvpB6AyAafO"
      },
      "source": [
        "import sys\n",
        "sys.path.append('/content/drive/My Drive/models')"
      ],
      "execution_count": null,
      "outputs": []
    },
    {
      "cell_type": "code",
      "metadata": {
        "id": "SPDD4JAzAcdf"
      },
      "source": [
        "from os import chdir\n",
        "chdir(\"/content/drive/My Drive/models/research/\")"
      ],
      "execution_count": null,
      "outputs": []
    },
    {
      "cell_type": "markdown",
      "metadata": {
        "id": "vGNV4ufvp5io"
      },
      "source": [
        "## Step 7: Test Object Detection API"
      ]
    },
    {
      "cell_type": "code",
      "metadata": {
        "id": "8LccY5Dkp8EU"
      },
      "source": [
        "!python object_detection/builders/model_builder_tf2_test.py"
      ],
      "execution_count": null,
      "outputs": []
    },
    {
      "cell_type": "markdown",
      "metadata": {
        "id": "iRMsk831tm4n"
      },
      "source": [
        "# Part 2: Model prediction"
      ]
    },
    {
      "cell_type": "markdown",
      "metadata": {
        "id": "yq0oWAZItpyn"
      },
      "source": [
        "## Step 1: Download the model from the teacher’s cloud drive or use a model trained by yourself\n",
        "\n",
        "https://drive.google.com/file/d/1Ihqblvz8oCHuHy3hLF9LqeD-mYdPvsGK/view?usp=sharing\n",
        "\n",
        "https://drive.google.com/file/d/1wv7lNLdYsOADZvCkCH6jzvHYdX9v3FdQ/view?usp=sharing"
      ]
    },
    {
      "cell_type": "code",
      "metadata": {
        "id": "xdV64FLqnz_i"
      },
      "source": [
        "!gdown --id 1Ihqblvz8oCHuHy3hLF9LqeD-mYdPvsGK"
      ],
      "execution_count": null,
      "outputs": []
    },
    {
      "cell_type": "code",
      "metadata": {
        "id": "BToB5ACEDhbI"
      },
      "source": [
        "!gdown --id 1wv7lNLdYsOADZvCkCH6jzvHYdX9v3FdQ"
      ],
      "execution_count": null,
      "outputs": []
    },
    {
      "cell_type": "code",
      "metadata": {
        "id": "nt_M11M5oChk"
      },
      "source": [
        "!unzip efficientdet_d0_mbsh.zip"
      ],
      "execution_count": null,
      "outputs": []
    },
    {
      "cell_type": "code",
      "metadata": {
        "id": "lVt8MzIaoEkc"
      },
      "source": [
        "!ls efficientdet_d0_mbsh/checkpoint"
      ],
      "execution_count": null,
      "outputs": []
    },
    {
      "cell_type": "markdown",
      "metadata": {
        "id": "gemH_181C2od"
      },
      "source": [
        "## Step 2: Setup"
      ]
    },
    {
      "cell_type": "code",
      "metadata": {
        "id": "vSYdFEFGC0KP"
      },
      "source": [
        "import tensorflow as tf\n",
        "\n",
        "import matplotlib\n",
        "import matplotlib.pyplot as plt\n",
        "\n",
        "import io\n",
        "import os\n",
        "import pathlib\n",
        "import random\n",
        "import scipy.misc\n",
        "import numpy as np\n",
        "from six import BytesIO\n",
        "from PIL import Image, ImageDraw, ImageFont\n",
        "\n",
        "from object_detection.utils import label_map_util\n",
        "from object_detection.utils import config_util\n",
        "from object_detection.utils import visualization_utils as viz_utils\n",
        "from object_detection.builders import model_builder\n",
        "\n",
        "%matplotlib inline"
      ],
      "execution_count": null,
      "outputs": []
    },
    {
      "cell_type": "code",
      "metadata": {
        "id": "ROP0jRw_C57l"
      },
      "source": [
        "def load_image_into_numpy_array(path):\n",
        "  #Load an image from file into a numpy array.\n",
        "  img_data = tf.io.gfile.GFile(path, 'rb').read()\n",
        "  image = Image.open(BytesIO(img_data))\n",
        "  image = image.convert(\"RGB\")\n",
        "  (im_width, im_height) = image.size\n",
        "  return np.array(image.getdata()).reshape(\n",
        "      (im_height, im_width, 3)).astype(np.uint8)\n",
        "\n",
        "def get_keypoint_tuples(eval_config):\n",
        "  \"\"\"Return a tuple list of keypoint edges from the eval config.\n",
        "  \n",
        "  Args:\n",
        "    eval_config: an eval config containing the keypoint edges\n",
        "  \n",
        "  Returns:\n",
        "    a list of edge tuples, each in the format (start, end)\n",
        "  \"\"\"\n",
        "  tuple_list = []\n",
        "  kp_list = eval_config.keypoint_edge\n",
        "  for edge in kp_list:\n",
        "    tuple_list.append((edge.start, edge.end))\n",
        "  return tuple_list"
      ],
      "execution_count": null,
      "outputs": []
    },
    {
      "cell_type": "markdown",
      "metadata": {
        "id": "EYpHBVU0Ckc-"
      },
      "source": [
        "## Step 3: Model configuration"
      ]
    },
    {
      "cell_type": "code",
      "metadata": {
        "id": "jjtwPckrCjxf"
      },
      "source": [
        "import os\n",
        "pipeline_path = 'efficientdet_d0_mbsh/mbsh_pipeline.config'\n",
        "model_dir = 'efficientdet_d0_mbsh/checkpoint'\n",
        "configs = config_util.get_configs_from_pipeline_file(pipeline_path)"
      ],
      "execution_count": null,
      "outputs": []
    },
    {
      "cell_type": "code",
      "metadata": {
        "id": "7R-NWRApD0PV"
      },
      "source": [
        "def get_model_detection_function(model):\n",
        "  \"\"\"Get a tf.function for detection.\"\"\"\n",
        "  @tf.function\n",
        "  def detect_fn(image):\n",
        "    \"\"\"Detect objects in image.\"\"\"\n",
        "    image, shapes = model.preprocess(image)\n",
        "    prediction_dict = model.predict(image, shapes)\n",
        "    detections = model.postprocess(prediction_dict, shapes)\n",
        "    return detections, prediction_dict, tf.reshape(shapes, [-1])\n",
        "\n",
        "  return detect_fn"
      ],
      "execution_count": null,
      "outputs": []
    },
    {
      "cell_type": "code",
      "metadata": {
        "id": "8KVXenhxD3D4"
      },
      "source": [
        "model_config = configs['model']\n",
        "detection_model = model_builder.build(model_config=model_config, is_training=False)\n",
        "detect_fn = get_model_detection_function(detection_model)"
      ],
      "execution_count": null,
      "outputs": []
    },
    {
      "cell_type": "code",
      "metadata": {
        "id": "QQf1Pl2yq7pS"
      },
      "source": [
        "# Restore checkpoint\n",
        "ckpt = tf.compat.v2.train.Checkpoint(model=detection_model)\n",
        "ckpt.restore(os.path.join(model_dir, 'ckpt-301')).expect_partial()"
      ],
      "execution_count": null,
      "outputs": []
    },
    {
      "cell_type": "code",
      "metadata": {
        "id": "W5U-SzGarDuH"
      },
      "source": [
        "label_map_path = configs['eval_input_config'].label_map_path\n",
        "label_map = label_map_util.load_labelmap(label_map_path)\n",
        "categories = label_map_util.convert_label_map_to_categories(\n",
        "    label_map,\n",
        "    max_num_classes=label_map_util.get_max_label_map_index(label_map),\n",
        "    use_display_name=True)\n",
        "category_index = label_map_util.create_category_index(categories)\n",
        "label_map_dict = label_map_util.get_label_map_dict(label_map, use_display_name=False)"
      ],
      "execution_count": null,
      "outputs": []
    },
    {
      "cell_type": "markdown",
      "metadata": {
        "id": "O31YXw7kKbg6"
      },
      "source": [
        "## Step 3: Use the trained model to predict objects in the test set"
      ]
    },
    {
      "cell_type": "code",
      "metadata": {
        "id": "EI9NiwQGrF11"
      },
      "source": [
        "import numpy as np\n",
        "from PIL import Image\n",
        "from IPython.display import display"
      ],
      "execution_count": null,
      "outputs": []
    },
    {
      "cell_type": "code",
      "metadata": {
        "id": "tECEs3itrGw-"
      },
      "source": [
        "image_dir = 'data/test_cdc/test_images/'\n",
        "image_name = random.choice(os.listdir(image_dir))\n",
        "print(image_name)\n",
        "image_path = image_dir + image_name\n",
        "test_image = Image.open(image_path)\n",
        "display(test_image)"
      ],
      "execution_count": null,
      "outputs": []
    },
    {
      "cell_type": "code",
      "metadata": {
        "id": "BY0qOIAErPMG"
      },
      "source": [
        "image_np = load_image_into_numpy_array(image_path)\n",
        "input_tensor = tf.convert_to_tensor(\n",
        "    np.expand_dims(image_np, 0), dtype=tf.float32)\n",
        "width  = image_np.shape[1]\n",
        "height = image_np.shape[0]\n",
        "print(f\"{width}x{height}\")"
      ],
      "execution_count": null,
      "outputs": []
    },
    {
      "cell_type": "code",
      "metadata": {
        "id": "7uMxseIGEgzA"
      },
      "source": [
        "detections, predictions_dict, shapes = detect_fn(input_tensor)\n",
        "print(detections[\"detection_scores\"])"
      ],
      "execution_count": null,
      "outputs": []
    },
    {
      "cell_type": "code",
      "metadata": {
        "id": "IcjEUv9wo7l2"
      },
      "source": [
        "number=3"
      ],
      "execution_count": null,
      "outputs": []
    },
    {
      "cell_type": "code",
      "metadata": {
        "id": "RWEomg7cEkeV"
      },
      "source": [
        "label_id_offset = 1\n",
        "image_np_with_detections = image_np.copy()\n",
        "# Use keypoints if available in detections\n",
        "keypoints, keypoint_scores = None, None\n",
        "if 'detection_keypoints' in detections:\n",
        "  keypoints = detections['detection_keypoints'][0].numpy()\n",
        "  keypoint_scores = detections['detection_keypoint_scores'][0].numpy()\n",
        "\n",
        "viz_utils.visualize_boxes_and_labels_on_image_array(\n",
        "      image_np_with_detections,\n",
        "      detections['detection_boxes'][0].numpy(),\n",
        "      (detections['detection_classes'][0].numpy() + label_id_offset).astype(int),\n",
        "      detections['detection_scores'][0].numpy(),\n",
        "      category_index,\n",
        "      use_normalized_coordinates=True,\n",
        "      max_boxes_to_draw=number,\n",
        "      min_score_thresh=.01,\n",
        "      agnostic_mode=False,\n",
        "      keypoints=keypoints,\n",
        "      keypoint_scores=keypoint_scores,\n",
        "      keypoint_edges=get_keypoint_tuples(configs['eval_config']))\n",
        "\n",
        "plt.figure(figsize=(12,16))\n",
        "plt.imshow(image_np_with_detections)\n",
        "plt.show()"
      ],
      "execution_count": null,
      "outputs": []
    },
    {
      "cell_type": "markdown",
      "metadata": {
        "id": "iiT-f5BREtqT"
      },
      "source": [
        "# Part 3: Perform object detection in the test set"
      ]
    },
    {
      "cell_type": "markdown",
      "metadata": {
        "id": "tVwJgPLFE91O"
      },
      "source": [
        "## Step 1: Perform object detection"
      ]
    },
    {
      "cell_type": "code",
      "metadata": {
        "id": "ucy5OBMvFRMx"
      },
      "source": [
        "import os\n",
        "import glob\n",
        "import pandas as pd\n",
        "Threshold = 0.3\n",
        "classname = ['Nan', 'aquarium', 'bottle', 'bowl', 'box', 'bucket', 'plastic_bag', \n",
        "             'plate', 'styrofoam', 'tire', 'toilet', 'tub', 'washing_machine',\n",
        "             'water_tower']\n",
        "label_id_offset = 1\n",
        "files = sorted(glob.glob('data/test_cdc/test_images/*.jpg'))\n",
        "blist = []\n",
        "for img_file in files:\n",
        "  fname = os.path.basename(img_file)\n",
        "  print(f\"file:{fname} \", end=\"\")\n",
        "  image_np = load_image_into_numpy_array(img_file)\n",
        "  width  = image_np.shape[1]\n",
        "  height = image_np.shape[0]\n",
        "\n",
        "\n",
        "  input_tensor = tf.convert_to_tensor(np.expand_dims(image_np, 0), dtype=tf.float32)\n",
        "  detections, predictions_dict, shapes = detect_fn(input_tensor)\n",
        "\n",
        "  scores  =detections['detection_scores'][0].numpy()\n",
        "  label_ids=detections['detection_classes'][0].numpy().astype(int) + label_id_offset\n",
        "  boxes    =detections['detection_boxes'][0].numpy()\n",
        "\n",
        "  bcount = 0;\n",
        "  for score in list(scores):\n",
        "    if score < Threshold:\n",
        "      break\n",
        "    bcount += 1\n",
        "  if bcount==0 and scores[0] >0.2:\n",
        "    bcount = 1\n",
        "  print(f\" count={bcount}\")\n",
        "  \n",
        "  for i in range(bcount):\n",
        "    score = scores[i]\n",
        "    label_id = label_ids[i].astype(int)\n",
        "    label_name = classname[label_id]\n",
        "    box = boxes[i]\n",
        "    xmin = round(box[0]*width)\n",
        "    xmax = round(box[2]*width)\n",
        "    ymin = round(box[1]*height)\n",
        "    ymax = round(box[3]*height)\n",
        "    record = (fname, label_id, xmin, ymin, xmax-xmin, ymax-ymin, score)\n",
        "    blist.append(record)\n"
      ],
      "execution_count": null,
      "outputs": []
    },
    {
      "cell_type": "markdown",
      "metadata": {
        "id": "VNZxMWGbFHhM"
      },
      "source": [
        "## Step 2: Output detection result"
      ]
    },
    {
      "cell_type": "code",
      "metadata": {
        "id": "Pb9kxnOyFSbw"
      },
      "source": [
        "column_name = ['image_filename', 'label_id', 'x', 'y', 'w', 'h', 'confidence']\n",
        "df = pd.DataFrame(blist, columns=column_name)\n",
        "df.to_csv(('mbsh/test_labels_hat2.csv'), index=None)"
      ],
      "execution_count": null,
      "outputs": []
    }
  ]
}