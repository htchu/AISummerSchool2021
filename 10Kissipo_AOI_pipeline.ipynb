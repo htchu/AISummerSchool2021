{
  "nbformat": 4,
  "nbformat_minor": 0,
  "metadata": {
    "colab": {
      "name": "10Kissipo_AOI_pipeline.ipynb",
      "provenance": [],
      "toc_visible": true,
      "machine_shape": "hm"
    },
    "kernelspec": {
      "name": "python3",
      "display_name": "Python 3"
    },
    "accelerator": "GPU"
  },
  "cells": [
    {
      "cell_type": "markdown",
      "metadata": {
        "id": "ZOuhb2IiDVpm"
      },
      "source": [
        "<table width=\"100%\" border=\"3\">\n",
        "  <tbody>\n",
        "    <tr>\n",
        "      <td ><img src=\"https://aidea-web.tw/images/web/logo_white.png\" alt=\"Aidea\" width=\"400\"/></td>\n",
        "      <td align='left'><h1>AUAI Exercise 2: AOI Simple Pipeline </h1></td>\n",
        "    </tr>\n",
        "  </tbody>\n",
        "</table>"
      ]
    },
    {
      "cell_type": "markdown",
      "metadata": {
        "id": "PGGwdZHI91s7"
      },
      "source": [
        "# Preparation of TensorFlow and AOI Dataset"
      ]
    },
    {
      "cell_type": "markdown",
      "metadata": {
        "id": "lgvMFW8X2q4q"
      },
      "source": [
        "## Step 1: Import TensorFlow & other libraries"
      ]
    },
    {
      "cell_type": "code",
      "metadata": {
        "id": "OCJBD9x1Bv8n"
      },
      "source": [
        "import tensorflow as tf\n",
        "print(tf.__version__)\n",
        "print(tf.config.list_physical_devices('GPU'))"
      ],
      "execution_count": null,
      "outputs": []
    },
    {
      "cell_type": "code",
      "metadata": {
        "id": "Gl5ZMXU3S_rH"
      },
      "source": [
        "import numpy as np\n",
        "import matplotlib.pyplot as plt\n",
        "%matplotlib inline"
      ],
      "execution_count": null,
      "outputs": []
    },
    {
      "cell_type": "markdown",
      "metadata": {
        "id": "GsSZZ9OM3IAe"
      },
      "source": [
        "## Step 2:Download AOI dataset to Colab from Google drive"
      ]
    },
    {
      "cell_type": "markdown",
      "metadata": {
        "id": "NyJlpFDicCrF"
      },
      "source": [
        "https://drive.google.com/file/d/1Arcy_6pkMwLrg05A4f8S5dRzyu4I5j8Q/view?usp=sharing"
      ]
    },
    {
      "cell_type": "code",
      "metadata": {
        "id": "wxFk8zr9B1Xm"
      },
      "source": [
        "from google_drive_downloader import GoogleDriveDownloader\n",
        "GoogleDriveDownloader.download_file_from_google_drive(file_id='1Arcy_6pkMwLrg05A4f8S5dRzyu4I5j8Q',dest_path='./content', unzip=True)"
      ],
      "execution_count": null,
      "outputs": []
    },
    {
      "cell_type": "markdown",
      "metadata": {
        "id": "1YA4ThId3TZ_"
      },
      "source": [
        "## Step 3:Check input data "
      ]
    },
    {
      "cell_type": "code",
      "metadata": {
        "id": "pL3o453NU26h"
      },
      "source": [
        "import pandas as pd\n",
        "df_train = pd.read_csv(\"train.csv\")\n",
        "print(df_train.shape)"
      ],
      "execution_count": null,
      "outputs": []
    },
    {
      "cell_type": "code",
      "metadata": {
        "id": "tuDemzs5VKFk"
      },
      "source": [
        "df_train.head()"
      ],
      "execution_count": null,
      "outputs": []
    },
    {
      "cell_type": "code",
      "metadata": {
        "id": "-cVo6Gq4FApt"
      },
      "source": [
        "train_num = df_train.shape[0]\n",
        "train_files = df_train.iloc[:train_num,0].values\n",
        "train_labels = df_train.iloc[:train_num,1].values\n",
        "print(train_labels[:20])"
      ],
      "execution_count": null,
      "outputs": []
    },
    {
      "cell_type": "code",
      "metadata": {
        "id": "TtQV07_cFK7Y"
      },
      "source": [
        "import seaborn as sns\n",
        "g = sns.countplot(train_labels)"
      ],
      "execution_count": null,
      "outputs": []
    },
    {
      "cell_type": "markdown",
      "metadata": {
        "id": "ohlTu1G13hWF"
      },
      "source": [
        "# IPO-M: Model\n",
        "\n",
        "<img src=\"https://miro.medium.com/max/1571/1*XB4SlSGxGKFQbIBoil0aDg.png\" alt=\"Pre-train models\" width=\"500\">"
      ]
    },
    {
      "cell_type": "markdown",
      "metadata": {
        "id": "d-av3hLG-G8d"
      },
      "source": [
        "## Step 4:Load ImageNet CNN Model"
      ]
    },
    {
      "cell_type": "code",
      "metadata": {
        "id": "8YKcKTBabLig"
      },
      "source": [
        "num_classes=6"
      ],
      "execution_count": null,
      "outputs": []
    },
    {
      "cell_type": "code",
      "metadata": {
        "id": "cLyRMQLrFUpY"
      },
      "source": [
        "from tensorflow.keras import Sequential\n",
        "from tensorflow.keras.models import Model\n",
        "from tensorflow.keras.layers import Dense, Activation, Flatten\n",
        "from tensorflow.keras.layers import Input\n",
        "from tensorflow.keras.layers import Dropout, Flatten, Activation\n",
        "from tensorflow.keras.layers import Conv2D, MaxPooling2D\n",
        "from tensorflow.keras.optimizers import Adam,SGD,Adagrad,Adadelta,RMSprop"
      ],
      "execution_count": null,
      "outputs": []
    },
    {
      "cell_type": "code",
      "metadata": {
        "id": "ndL1lGGwEsOM"
      },
      "source": [
        "from tensorflow.keras.applications import InceptionResNetV2\n",
        "model = InceptionResNetV2(include_top = True, input_shape=(299,299,3), weights=None, classes=num_classes)"
      ],
      "execution_count": null,
      "outputs": []
    },
    {
      "cell_type": "code",
      "metadata": {
        "id": "MARzRhyY49NB"
      },
      "source": [
        "model.summary()"
      ],
      "execution_count": null,
      "outputs": []
    },
    {
      "cell_type": "markdown",
      "metadata": {
        "id": "UI4w5zvO-dCD"
      },
      "source": [
        "## Step 5: Compile model"
      ]
    },
    {
      "cell_type": "code",
      "metadata": {
        "id": "2ILyWZe8G1cX"
      },
      "source": [
        "#compile model using accuracy to measure model performance\n",
        "#model.summary()\n",
        "from tensorflow.keras import optimizers\n",
        "model.compile(loss='categorical_crossentropy',\n",
        "            optimizer=optimizers.Adam(lr=3e-3),\n",
        "            metrics=['accuracy'])"
      ],
      "execution_count": null,
      "outputs": []
    },
    {
      "cell_type": "markdown",
      "metadata": {
        "id": "oXdd6vCK3u3v"
      },
      "source": [
        "# IPO-I: Encode input images"
      ]
    },
    {
      "cell_type": "markdown",
      "metadata": {
        "id": "hWWvJeFW-mAj"
      },
      "source": [
        "## Step 6: read train images"
      ]
    },
    {
      "cell_type": "code",
      "metadata": {
        "id": "Fi51mvb90jgB"
      },
      "source": [
        "train_path = \"train_images/\"\n",
        "train_images = []\n",
        "from tensorflow.keras.preprocessing import image\n",
        "for file in train_files:\n",
        "    img = image.load_img(train_path+file, color_mode=\"rgb\", target_size = (299, 299))\n",
        "    train_images.append(img)\n",
        "    if len(train_images)%100 == 0:\n",
        "      print('.', end='')\n",
        "print(len(train_images))"
      ],
      "execution_count": null,
      "outputs": []
    },
    {
      "cell_type": "markdown",
      "metadata": {
        "id": "wXsziVQM-q7p"
      },
      "source": [
        "## Step 7: convert train images into np.array"
      ]
    },
    {
      "cell_type": "code",
      "metadata": {
        "id": "V2LTGjs51axL"
      },
      "source": [
        "arr = []\n",
        "from tensorflow.keras.preprocessing.image import img_to_array\n",
        "from tensorflow.keras.applications.inception_v3 import preprocess_input\n",
        "for img in train_images:\n",
        "    x = image.img_to_array(img)\n",
        "    img_array = preprocess_input(x)\n",
        "    arr.append(img_array)\n",
        "X_train = np.array(arr)\n",
        "print(X_train.shape)"
      ],
      "execution_count": null,
      "outputs": []
    },
    {
      "cell_type": "markdown",
      "metadata": {
        "id": "CMzL8uti4D4D"
      },
      "source": [
        "# IPO-O: Encode output labes"
      ]
    },
    {
      "cell_type": "markdown",
      "metadata": {
        "id": "sOC99Cj--4cY"
      },
      "source": [
        "## Step 8: convert train label into  onehot array"
      ]
    },
    {
      "cell_type": "code",
      "metadata": {
        "id": "wolDmmfp1x7q"
      },
      "source": [
        "from tensorflow.keras.utils import to_categorical\n",
        "# one-hot encoding\n",
        "num_classes = 6\n",
        "y_train = to_categorical(train_labels, num_classes)\n",
        "print(y_train)"
      ],
      "execution_count": null,
      "outputs": []
    },
    {
      "cell_type": "markdown",
      "metadata": {
        "id": "ZoQ5Boa04Ljp"
      },
      "source": [
        "## IPO-P: Model training"
      ]
    },
    {
      "cell_type": "markdown",
      "metadata": {
        "id": "bM367TPK_APZ"
      },
      "source": [
        "## Step 9: train our model "
      ]
    },
    {
      "cell_type": "code",
      "metadata": {
        "id": "bbaqKT0B2Ca0"
      },
      "source": [
        "#train the model\n",
        "hist = model.fit(X_train, y_train, batch_size=20, epochs=10)"
      ],
      "execution_count": null,
      "outputs": []
    },
    {
      "cell_type": "markdown",
      "metadata": {
        "id": "3MRU_q_L_IE0"
      },
      "source": [
        "## Step 10: save our model "
      ]
    },
    {
      "cell_type": "code",
      "metadata": {
        "id": "0ZuxezvUMV0W"
      },
      "source": [
        "model.save(\"AOI-inceptionv3-0812.h5\")"
      ],
      "execution_count": null,
      "outputs": []
    },
    {
      "cell_type": "markdown",
      "metadata": {
        "id": "QU6DBbyl4T5x"
      },
      "source": [
        "# IPO-P: Model evaluation"
      ]
    },
    {
      "cell_type": "markdown",
      "metadata": {
        "id": "oBgqim0-_3t1"
      },
      "source": [
        "## Step 11: Show training loss"
      ]
    },
    {
      "cell_type": "code",
      "metadata": {
        "id": "fK8LDLhz2RXQ"
      },
      "source": [
        "plt.plot(hist.history['loss'])\n",
        "plt.title('Model Loss')\n",
        "plt.ylabel('Loss')\n",
        "plt.xlabel('Epochs')\n",
        "plt.legend(['train'])\n",
        "plt.show()"
      ],
      "execution_count": null,
      "outputs": []
    },
    {
      "cell_type": "markdown",
      "metadata": {
        "id": "vrhu1SVJ_-BL"
      },
      "source": [
        "## Step 11: Show training accuracy"
      ]
    },
    {
      "cell_type": "code",
      "metadata": {
        "id": "qC90ptil2Thm"
      },
      "source": [
        "plt.plot(hist.history['accuracy'])\n",
        "plt.title('Model Accuracy')\n",
        "plt.ylabel('Accuracy')\n",
        "plt.xlabel('Epochs')\n",
        "plt.legend(['train'])\n",
        "plt.show()"
      ],
      "execution_count": null,
      "outputs": []
    },
    {
      "cell_type": "markdown",
      "metadata": {
        "id": "3YVDOU1MAB1Y"
      },
      "source": [
        "## Step 11: check the prediction for training set"
      ]
    },
    {
      "cell_type": "code",
      "metadata": {
        "id": "LEfLtChR4uxz"
      },
      "source": [
        "y_prediction = model.predict(X_train, batch_size=20)\n",
        "print(y_prediction[:2])"
      ],
      "execution_count": null,
      "outputs": []
    },
    {
      "cell_type": "code",
      "metadata": {
        "id": "6l1QjAso2XxE"
      },
      "source": [
        "predict = np.argmax(y_prediction,axis=1)\n",
        "print(predict[0:10])"
      ],
      "execution_count": null,
      "outputs": []
    },
    {
      "cell_type": "code",
      "metadata": {
        "id": "JQhCV0fF2YUg"
      },
      "source": [
        "print(train_labels[:10])"
      ],
      "execution_count": null,
      "outputs": []
    },
    {
      "cell_type": "markdown",
      "metadata": {
        "id": "fJfZVLad43Qi"
      },
      "source": [
        "## Step 12: Compute confusion matrix (混淆矩陣)"
      ]
    },
    {
      "cell_type": "code",
      "metadata": {
        "id": "hOhfRdX744Se"
      },
      "source": [
        "from sklearn.metrics import confusion_matrix\n",
        "confusion=confusion_matrix(train_labels, predict)\n",
        "print(confusion)"
      ],
      "execution_count": null,
      "outputs": []
    },
    {
      "cell_type": "markdown",
      "metadata": {
        "id": "CpPZt5wW41Ty"
      },
      "source": [
        "## Step 13: Plot the confusion matrix"
      ]
    },
    {
      "cell_type": "code",
      "metadata": {
        "id": "1UkjE-KW5BUE"
      },
      "source": [
        "import seaborn as sn\n",
        "df_cm = pd.DataFrame(confusion)\n",
        "plt.figure(figsize = (10,7))\n",
        "sn.heatmap(df_cm, annot=True, cmap=\"Blues\")"
      ],
      "execution_count": null,
      "outputs": []
    },
    {
      "cell_type": "markdown",
      "metadata": {
        "id": "rEQ36L244q2X"
      },
      "source": [
        "## Step 14: List overkills and underkills"
      ]
    },
    {
      "cell_type": "code",
      "metadata": {
        "id": "RkN2e69X5E9-"
      },
      "source": [
        "overkill= []\n",
        "underkill = []\n",
        "for i in range(train_num):\n",
        "  if train_labels[i] == 0 and predict[i] !=0:\n",
        "    overkill.append(i)\n",
        "  if train_labels[i] != 0 and predict[i] ==0:\n",
        "    underkill.append(i)\n",
        "print('# of overkill= {}; # of underkill= {} '.format(len(overkill), len(underkill)))"
      ],
      "execution_count": null,
      "outputs": []
    },
    {
      "cell_type": "markdown",
      "metadata": {
        "id": "7lSqkm255Jvf"
      },
      "source": [
        "## Step 15: Check overkills"
      ]
    },
    {
      "cell_type": "code",
      "metadata": {
        "id": "s1dcVoq-5H_5"
      },
      "source": [
        "#overkill\n",
        "overkill_num = len(overkill)\n",
        "no = 0\n",
        "fig,ax=plt.subplots(2, 3)\n",
        "fig.set_size_inches(10,10)\n",
        "for i in range(2):\n",
        "    for j in range (3):\n",
        "        if no>=overkill_num:\n",
        "          break \n",
        "        sel = overkill[no]\n",
        "        ax[i,j].imshow(train_images[sel], cmap='gray')\n",
        "        ax[i,j].set_title('No. {} Predicted Label:{} '.format(sel, predict[sel])) \n",
        "        no += 1\n",
        "plt.tight_layout()"
      ],
      "execution_count": null,
      "outputs": []
    },
    {
      "cell_type": "markdown",
      "metadata": {
        "id": "2YUQpJlI5N5M"
      },
      "source": [
        "## Step 16: Check underkills"
      ]
    },
    {
      "cell_type": "code",
      "metadata": {
        "id": "sEWTRCr95Qef"
      },
      "source": [
        "#underkill\n",
        "underkill_num = len(underkill)\n",
        "no = 0\n",
        "fig,ax=plt.subplots(2, 3)\n",
        "fig.set_size_inches(10,10)\n",
        "for i in range(2):\n",
        "    for j in range (3):\n",
        "        if no>=underkill_num:\n",
        "          break \n",
        "        sel = underkill[no]\n",
        "        ax[i,j].imshow(train_images[sel], cmap='gray')\n",
        "        ax[i,j].set_title('No. {} train_labels:{} '.format(sel, train_labels[sel])) \n",
        "        no += 1\n",
        "plt.tight_layout()"
      ],
      "execution_count": null,
      "outputs": []
    },
    {
      "cell_type": "markdown",
      "metadata": {
        "id": "DU4pQqiE5Z5x"
      },
      "source": [
        "## Step 17: Delete training data in memory"
      ]
    },
    {
      "cell_type": "code",
      "metadata": {
        "id": "rqcj3cYG5TJQ"
      },
      "source": [
        "del train_images\n",
        "del X_train\n",
        "#Do GC\n",
        "import gc\n",
        "gc.collect()"
      ],
      "execution_count": null,
      "outputs": []
    },
    {
      "cell_type": "markdown",
      "metadata": {
        "id": "C49-SGS0D-tW"
      },
      "source": [
        "# Method 1 of input test data"
      ]
    },
    {
      "cell_type": "markdown",
      "metadata": {
        "id": "GVxapvUs4etg"
      },
      "source": [
        "# IPO-I: input test data"
      ]
    },
    {
      "cell_type": "markdown",
      "metadata": {
        "id": "WmyYXgEpBAi1"
      },
      "source": [
        "## Step 18:Check test data "
      ]
    },
    {
      "cell_type": "code",
      "metadata": {
        "id": "Z3bIEx-t4jmj"
      },
      "source": [
        "df_test = pd.read_csv(\"test.csv\")\n",
        "print(df_test.shape)"
      ],
      "execution_count": null,
      "outputs": []
    },
    {
      "cell_type": "code",
      "metadata": {
        "id": "2joGbBGC5ipU"
      },
      "source": [
        "df_test.head()"
      ],
      "execution_count": null,
      "outputs": []
    },
    {
      "cell_type": "markdown",
      "metadata": {
        "id": "GPyzux9mBcJB"
      },
      "source": [
        "## Step 19: Limit the number of test images for input of CNN model"
      ]
    },
    {
      "cell_type": "code",
      "metadata": {
        "id": "93bcwVm58Wrr"
      },
      "source": [
        "#test_num = df_test.shape[0]\n",
        "test_num = 2000 #limit the amount of training images for the class process\n",
        "if test_num >= df_test.shape[0]:\n",
        "  test_num = df_test.shape[0]"
      ],
      "execution_count": null,
      "outputs": []
    },
    {
      "cell_type": "code",
      "metadata": {
        "id": "rr5f96Wy5vcv"
      },
      "source": [
        "test_files  = df_test.iloc[:test_num,0].values\n",
        "test_labels = df_test.iloc[:test_num,1].values\n",
        "print(test_labels[:10])"
      ],
      "execution_count": null,
      "outputs": []
    },
    {
      "cell_type": "markdown",
      "metadata": {
        "id": "ggTuqKopA2E3"
      },
      "source": [
        "## Step 20: read test images\n",
        "\n",
        "Note the limited number of test images for input of CNN model"
      ]
    },
    {
      "cell_type": "code",
      "metadata": {
        "id": "9v1FxantDC8r"
      },
      "source": [
        "len(test_files)"
      ],
      "execution_count": null,
      "outputs": []
    },
    {
      "cell_type": "code",
      "metadata": {
        "id": "5G0u4JFy50qt"
      },
      "source": [
        "test_path = \"test_images/\"\n",
        "test_images = []\n",
        "for file in test_files:\n",
        "    img = image.load_img(test_path+file, color_mode=\"rgb\", target_size = (299, 299))\n",
        "    test_images.append(img)\n",
        "    if len(test_images)%100 == 0:\n",
        "      print('.', end='')\n",
        "print(len(test_images))"
      ],
      "execution_count": null,
      "outputs": []
    },
    {
      "cell_type": "markdown",
      "metadata": {
        "id": "teRn38_PBoWG"
      },
      "source": [
        "## Step 21: encode test images into np.array"
      ]
    },
    {
      "cell_type": "code",
      "metadata": {
        "id": "3olsGTas58p4"
      },
      "source": [
        "arr = []\n",
        "for img in test_images:\n",
        "    x = image.img_to_array(img)\n",
        "    img_array = preprocess_input(x)\n",
        "    arr.append(img_array)\n",
        "X_test = np.array(arr)\n",
        "print(X_test.shape)"
      ],
      "execution_count": null,
      "outputs": []
    },
    {
      "cell_type": "markdown",
      "metadata": {
        "id": "PkJOkXb8CDYF"
      },
      "source": [
        "# IPO-O: output predictions for test images by our model"
      ]
    },
    {
      "cell_type": "markdown",
      "metadata": {
        "id": "tW0G2XJiBsaU"
      },
      "source": [
        "## Step 22: model.predict() for test images "
      ]
    },
    {
      "cell_type": "code",
      "metadata": {
        "id": "e_Tg3ezx6DWG"
      },
      "source": [
        "y_prediction = model.predict(X_test, batch_size=20)\n",
        "predict = np.argmax(y_prediction,axis=1)\n",
        "print(predict[:20])"
      ],
      "execution_count": null,
      "outputs": []
    },
    {
      "cell_type": "markdown",
      "metadata": {
        "id": "nmlLoOyJB-p1"
      },
      "source": [
        "## Step 23: write csv file for "
      ]
    },
    {
      "cell_type": "code",
      "metadata": {
        "id": "xgxEkYs7B-_u"
      },
      "source": [
        "df_out = pd.DataFrame(predict)\n",
        "df_out.shape"
      ],
      "execution_count": null,
      "outputs": []
    },
    {
      "cell_type": "code",
      "metadata": {
        "id": "Drllpmxq6FEA"
      },
      "source": [
        "df_out.to_csv(\"result-20210812.csv\", index=False)"
      ],
      "execution_count": null,
      "outputs": []
    },
    {
      "cell_type": "markdown",
      "metadata": {
        "id": "5GWghqBlDtR1"
      },
      "source": [
        "# Method 2 of input test data"
      ]
    },
    {
      "cell_type": "markdown",
      "metadata": {
        "id": "PAg8kC44EMw2"
      },
      "source": [
        "# Step 31: Load the test set "
      ]
    },
    {
      "cell_type": "code",
      "metadata": {
        "id": "TlcqAVdsERu2"
      },
      "source": [
        "df_test = pd.read_csv(\"test.csv\",dtype=str)\n",
        "print(df_test.shape)"
      ],
      "execution_count": null,
      "outputs": []
    },
    {
      "cell_type": "code",
      "metadata": {
        "id": "ibNe4JtkEVsm"
      },
      "source": [
        "df_test.head()"
      ],
      "execution_count": null,
      "outputs": []
    },
    {
      "cell_type": "code",
      "metadata": {
        "id": "bVYWGwKrEZmu"
      },
      "source": [
        "test_files  = df_test.iloc[:,0].values\n",
        "test_labels = df_test.iloc[:,1].values\n",
        "print(test_labels[:10])"
      ],
      "execution_count": null,
      "outputs": []
    },
    {
      "cell_type": "markdown",
      "metadata": {
        "id": "JvhqO9NlEoAn"
      },
      "source": [
        "## Step 32: Instancing an ImageDataGenerator"
      ]
    },
    {
      "cell_type": "code",
      "metadata": {
        "id": "BUgPsc2JEncM"
      },
      "source": [
        "from tensorflow.keras.preprocessing.image import ImageDataGenerator\n",
        "img_gen = ImageDataGenerator(preprocessing_function=preprocess_input)"
      ],
      "execution_count": null,
      "outputs": []
    },
    {
      "cell_type": "markdown",
      "metadata": {
        "id": "l6RmD6gdEcjd"
      },
      "source": [
        "## Step 33: Set up a test_generator with flow_from_dataframe"
      ]
    },
    {
      "cell_type": "code",
      "metadata": {
        "id": "Fmgum3F7EhU0"
      },
      "source": [
        "test_generator = img_gen.flow_from_dataframe(dataframe=df_test,\n",
        "            directory=\"test_images\",\n",
        "            x_col=\"ID\",\n",
        "            y_col=\"Label\",\n",
        "            batch_size=32,\n",
        "            shuffle=False,\n",
        "            class_mode=None,\n",
        "            target_size=(299,299))"
      ],
      "execution_count": null,
      "outputs": []
    },
    {
      "cell_type": "markdown",
      "metadata": {
        "id": "e3bqinKcE78V"
      },
      "source": [
        "## Step 34: step_size_test"
      ]
    },
    {
      "cell_type": "code",
      "metadata": {
        "id": "b47517JME0iS"
      },
      "source": [
        "if test_generator.n % test_generator.batch_size ==0:\n",
        "  step_size_test=test_generator.n//test_generator.batch_size\n",
        "else:\n",
        "  step_size_test=test_generator.n//test_generator.batch_size + 1\n",
        "print(step_size_test)"
      ],
      "execution_count": null,
      "outputs": []
    },
    {
      "cell_type": "code",
      "metadata": {
        "id": "vdfKQCdtFDr4"
      },
      "source": [
        "#y_predictions = model.predict(X_train, batch_size=20)\n",
        "test_generator.reset()\n",
        "y_predictions = model.predict_generator(generator=test_generator, steps=step_size_test,verbose=1)"
      ],
      "execution_count": null,
      "outputs": []
    },
    {
      "cell_type": "code",
      "metadata": {
        "id": "Nn3eGn3-FOR1"
      },
      "source": [
        "import numpy as np\n",
        "predicts=np.argmax(y_predictions,axis=1)\n",
        "predicts[:10]"
      ],
      "execution_count": null,
      "outputs": []
    },
    {
      "cell_type": "markdown",
      "metadata": {
        "id": "Osj0_oj7ETcU"
      },
      "source": [
        "## Step 35: Output test results"
      ]
    },
    {
      "cell_type": "code",
      "metadata": {
        "id": "wczrUc5QFUz0"
      },
      "source": [
        "df_out = pd.DataFrame(df_test)\n",
        "df_out.shape"
      ],
      "execution_count": null,
      "outputs": []
    },
    {
      "cell_type": "code",
      "metadata": {
        "id": "oUv4Grp7FXTN"
      },
      "source": [
        "df_out['Label'] = predicts\n",
        "df_out.to_csv(\"submit-20210812.csv\", index=False)"
      ],
      "execution_count": null,
      "outputs": []
    }
  ]
}