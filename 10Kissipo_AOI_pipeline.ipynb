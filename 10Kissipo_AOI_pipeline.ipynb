{
  "nbformat": 4,
  "nbformat_minor": 0,
  "metadata": {
    "colab": {
      "name": "Copy of Aidea-AOI-1b.ipynb",
      "provenance": []
    },
    "kernelspec": {
      "name": "python3",
      "display_name": "Python 3"
    },
    "accelerator": "GPU"
  },
  "cells": [
    {
      "cell_type": "markdown",
      "metadata": {
        "id": "ZOuhb2IiDVpm"
      },
      "source": [
        "<table width=\"100%\" border=\"3\">\n",
        "  <tbody>\n",
        "    <tr>\n",
        "      <td ><img src=\"https://aidea-web.tw/images/web/logo_white.png\" alt=\"Aidea\" width=\"400\"/></td>\n",
        "      <td align='left'><h1>AUAI Exercise 2: AOI Simple Pipeline </h1></td>\n",
        "    </tr>\n",
        "  </tbody>\n",
        "</table>"
      ]
    },
    {
      "cell_type": "code",
      "metadata": {
        "id": "OCJBD9x1Bv8n"
      },
      "source": [
        "import tensorflow as tf\n",
        "print(tf.__version__)\n",
        "print(tf.config.list_physical_devices('GPU'))"
      ],
      "execution_count": null,
      "outputs": []
    },
    {
      "cell_type": "code",
      "metadata": {
        "id": "Gl5ZMXU3S_rH"
      },
      "source": [
        "import numpy as np\n",
        "import matplotlib.pyplot as plt\n",
        "%matplotlib inline"
      ],
      "execution_count": null,
      "outputs": []
    },
    {
      "cell_type": "code",
      "metadata": {
        "id": "cLyRMQLrFUpY"
      },
      "source": [
        "from tensorflow.keras import Sequential\n",
        "from tensorflow.keras.models import Model\n",
        "from tensorflow.keras.layers import Dense, Activation, Flatten\n",
        "from tensorflow.keras.layers import Input\n",
        "from tensorflow.keras.layers import Dropout, Flatten, Activation\n",
        "from tensorflow.keras.layers import Conv2D, MaxPooling2D\n",
        "from tensorflow.keras.optimizers import Adam,SGD,Adagrad,Adadelta,RMSprop"
      ],
      "execution_count": null,
      "outputs": []
    },
    {
      "cell_type": "markdown",
      "metadata": {
        "id": "NyJlpFDicCrF"
      },
      "source": [
        "https://drive.google.com/file/d/1Arcy_6pkMwLrg05A4f8S5dRzyu4I5j8Q/view?usp=sharing"
      ]
    },
    {
      "cell_type": "code",
      "metadata": {
        "id": "wxFk8zr9B1Xm"
      },
      "source": [
        "from google_drive_downloader import GoogleDriveDownloader\n",
        "GoogleDriveDownloader.download_file_from_google_drive(file_id='1Arcy_6pkMwLrg05A4f8S5dRzyu4I5j8Q',dest_path='./content', unzip=True)"
      ],
      "execution_count": null,
      "outputs": []
    },
    {
      "cell_type": "code",
      "metadata": {
        "id": "pL3o453NU26h"
      },
      "source": [
        "import pandas as pd\n",
        "df_train = pd.read_csv(\"train.csv\",dtype=str)\n",
        "print(df_train.shape)"
      ],
      "execution_count": null,
      "outputs": []
    },
    {
      "cell_type": "code",
      "metadata": {
        "id": "tuDemzs5VKFk"
      },
      "source": [
        "df_train.head()"
      ],
      "execution_count": null,
      "outputs": []
    },
    {
      "cell_type": "code",
      "metadata": {
        "id": "-cVo6Gq4FApt"
      },
      "source": [
        "train_num = df_train.shape[0]\n",
        "train_files = df_train.iloc[:train_num,0].values\n",
        "train_labels = df_train.iloc[:train_num,1].values\n",
        "print(train_labels[:20])"
      ],
      "execution_count": null,
      "outputs": []
    },
    {
      "cell_type": "code",
      "metadata": {
        "id": "TtQV07_cFK7Y"
      },
      "source": [
        "import seaborn as sns\n",
        "g = sns.countplot(train_labels)"
      ],
      "execution_count": null,
      "outputs": []
    },
    {
      "cell_type": "code",
      "metadata": {
        "id": "qkc9nt2dx6v6"
      },
      "source": [
        ""
      ],
      "execution_count": null,
      "outputs": []
    },
    {
      "cell_type": "code",
      "metadata": {
        "id": "8YKcKTBabLig"
      },
      "source": [
        "num_classes=6"
      ],
      "execution_count": null,
      "outputs": []
    },
    {
      "cell_type": "code",
      "metadata": {
        "id": "ndL1lGGwEsOM"
      },
      "source": [
        "from tensorflow.keras.applications import InceptionResNetV2\n",
        "model = InceptionResNetV2(include_top = True, input_shape=(299,299,3), weights=None, classes=num_classes)"
      ],
      "execution_count": null,
      "outputs": []
    },
    {
      "cell_type": "code",
      "metadata": {
        "id": "MARzRhyY49NB"
      },
      "source": [
        "model.summary()"
      ],
      "execution_count": null,
      "outputs": []
    },
    {
      "cell_type": "code",
      "metadata": {
        "id": "2ILyWZe8G1cX"
      },
      "source": [
        "#compile model using accuracy to measure model performance\n",
        "#model.summary()\n",
        "from tensorflow.keras import optimizers\n",
        "model.compile(loss='categorical_crossentropy',\n",
        "            optimizer=optimizers.Adam(lr=3e-3),\n",
        "            metrics=['accuracy'])"
      ],
      "execution_count": null,
      "outputs": []
    },
    {
      "cell_type": "code",
      "metadata": {
        "id": "2FglrsMfXMBC"
      },
      "source": [
        "from tensorflow.keras.preprocessing.image import ImageDataGenerator\n",
        "from tensorflow.keras.applications.inception_v3 import preprocess_input\n",
        "img_gen = ImageDataGenerator(preprocessing_function=preprocess_input)"
      ],
      "execution_count": null,
      "outputs": []
    },
    {
      "cell_type": "code",
      "metadata": {
        "id": "gIAZ72MWSzmb"
      },
      "source": [
        "train_generator = img_gen.flow_from_dataframe(dataframe=df_train,\n",
        "            directory=\"train_images\",\n",
        "            x_col=\"ID\",\n",
        "            y_col=\"Label\",\n",
        "            subset=None,\n",
        "            batch_size=8,\n",
        "            shuffle=False,\n",
        "            class_mode=\"categorical\",\n",
        "            color_mode=\"rgb\",\n",
        "            target_size=(299,299))"
      ],
      "execution_count": null,
      "outputs": []
    },
    {
      "cell_type": "code",
      "metadata": {
        "id": "CzqOQhERYbGs"
      },
      "source": [
        "train_generator.class_indices"
      ],
      "execution_count": null,
      "outputs": []
    },
    {
      "cell_type": "code",
      "metadata": {
        "id": "Fu7E0m3ucZCJ"
      },
      "source": [
        "if train_generator.n % train_generator.batch_size ==0:\n",
        "  step_size_train=train_generator.n//train_generator.batch_size\n",
        "else:\n",
        "  step_size_train=train_generator.n//train_generator.batch_size + 1\n"
      ],
      "execution_count": null,
      "outputs": []
    },
    {
      "cell_type": "code",
      "metadata": {
        "id": "7INWr1yjaTrx"
      },
      "source": [
        "print(train_generator.n)"
      ],
      "execution_count": null,
      "outputs": []
    },
    {
      "cell_type": "code",
      "metadata": {
        "id": "VgdfV2r-K7Hj"
      },
      "source": [
        "# Include the epoch in the file name (uses `str.format`)\n",
        "import os\n",
        "checkpoint_path = \"training_cp/cp-{epoch:03d}.ckpt\"\n",
        "checkpoint_dir = os.path.dirname(checkpoint_path)\n",
        "# Create a callback that saves the model's weights \n",
        "cp_callback = tf.keras.callbacks.ModelCheckpoint(filepath=checkpoint_path, save_weights_only=True)"
      ],
      "execution_count": null,
      "outputs": []
    },
    {
      "cell_type": "code",
      "metadata": {
        "id": "MeWdoKDPLEoG"
      },
      "source": [
        "# Create a callback that stop the model \n",
        "es_callback = tf.keras.callbacks.EarlyStopping(monitor='loss', patience=5)"
      ],
      "execution_count": null,
      "outputs": []
    },
    {
      "cell_type": "code",
      "metadata": {
        "id": "31K9h5ePJ5-O"
      },
      "source": [
        "hist = model.fit_generator(generator=train_generator, steps_per_epoch=step_size_train, callbacks=[cp_callback, es_callback], epochs=100)"
      ],
      "execution_count": null,
      "outputs": []
    },
    {
      "cell_type": "code",
      "metadata": {
        "id": "XHvC6ybmPiR0"
      },
      "source": [
        "hist = model.fit_generator(generator=train_generator, steps_per_epoch=step_size_train, callbacks=[cp_callback, es_callback], epochs=100)"
      ],
      "execution_count": null,
      "outputs": []
    },
    {
      "cell_type": "code",
      "metadata": {
        "id": "xipf-J3iPmvn"
      },
      "source": [
        "hist = model.fit_generator(generator=train_generator, steps_per_epoch=step_size_train, callbacks=[cp_callback, es_callback], epochs=100)"
      ],
      "execution_count": null,
      "outputs": []
    },
    {
      "cell_type": "code",
      "metadata": {
        "id": "-hzIeF9RMBHg"
      },
      "source": [
        "# Save the weights using the `checkpoint_path` format\n",
        "model.load_weights(\"training_cp/cp-047.ckpt\")\n"
      ],
      "execution_count": null,
      "outputs": []
    },
    {
      "cell_type": "markdown",
      "metadata": {
        "id": "WdCv0Xg6hABj"
      },
      "source": [
        ""
      ]
    },
    {
      "cell_type": "code",
      "metadata": {
        "id": "0ZuxezvUMV0W"
      },
      "source": [
        "model.save(\"AOI-inceptionv3-0625.h5\")"
      ],
      "execution_count": null,
      "outputs": []
    },
    {
      "cell_type": "code",
      "metadata": {
        "id": "ssIe24ho6oGH"
      },
      "source": [
        "#y_predictions = model.predict(X_train, batch_size=20)\n",
        "#train_generator.reset()\n",
        "model.evaluate_generator(generator=train_generator, steps=step_size_train, verbose=1)"
      ],
      "execution_count": null,
      "outputs": []
    },
    {
      "cell_type": "code",
      "metadata": {
        "id": "snwxn3uEidj8"
      },
      "source": [
        "#y_predictions = model.predict(X_train, batch_size=20)\n",
        "train_generator.reset()\n",
        "y_predictions = model.predict_generator(generator=train_generator, steps=step_size_train, verbose=1)"
      ],
      "execution_count": null,
      "outputs": []
    },
    {
      "cell_type": "code",
      "metadata": {
        "id": "-3LFfE8bPjOD"
      },
      "source": [
        "print(y_predictions[:2])\n",
        "type(y_predictions)"
      ],
      "execution_count": null,
      "outputs": []
    },
    {
      "cell_type": "code",
      "metadata": {
        "id": "K_QP8t7qI5Zt"
      },
      "source": [
        "y_predictions.shape"
      ],
      "execution_count": null,
      "outputs": []
    },
    {
      "cell_type": "code",
      "metadata": {
        "id": "Apz1b0obPql5"
      },
      "source": [
        "predicts = np.argmax(y_predictions,axis=1)\n",
        "print(predicts[0:10])"
      ],
      "execution_count": null,
      "outputs": []
    },
    {
      "cell_type": "code",
      "metadata": {
        "id": "znSuMkJIWLvT"
      },
      "source": [
        "type(predicts)"
      ],
      "execution_count": null,
      "outputs": []
    },
    {
      "cell_type": "code",
      "metadata": {
        "id": "O108LjIbGT71"
      },
      "source": [
        "df_pred = pd.DataFrame(y_predictions)"
      ],
      "execution_count": null,
      "outputs": []
    },
    {
      "cell_type": "code",
      "metadata": {
        "id": "nScI86LVJWns"
      },
      "source": [
        "df_pred.shape"
      ],
      "execution_count": null,
      "outputs": []
    },
    {
      "cell_type": "code",
      "metadata": {
        "id": "0f9QrqJdJp-K"
      },
      "source": [
        "df_pred.to_csv('pred-iv3.csv')"
      ],
      "execution_count": null,
      "outputs": []
    },
    {
      "cell_type": "code",
      "metadata": {
        "id": "U8KJfM2AVNIg"
      },
      "source": [
        "labels = train_labels.astype(int)\n",
        "print(labels[:10])"
      ],
      "execution_count": null,
      "outputs": []
    },
    {
      "cell_type": "code",
      "metadata": {
        "id": "aZ3NL3iNVYFy"
      },
      "source": [
        "from sklearn.metrics import confusion_matrix\n",
        "confusion=confusion_matrix(labels, predicts)\n",
        "print(confusion)"
      ],
      "execution_count": null,
      "outputs": []
    },
    {
      "cell_type": "code",
      "metadata": {
        "id": "AEwJyegWXWKW"
      },
      "source": [
        "overkill= []\n",
        "underkill = []\n",
        "for i in range(train_num):\n",
        "  if labels[i] == 0 and predicts[i] !=0:\n",
        "    overkill.append(i)\n",
        "  if labels[i] != 0 and predicts[i] ==0:\n",
        "    underkill.append(i)\n",
        "print('# of overkill= {}; # of underkill= {} '.format(len(overkill), len(underkill)))"
      ],
      "execution_count": null,
      "outputs": []
    },
    {
      "cell_type": "code",
      "metadata": {
        "id": "XG7yX_BeYC9Z"
      },
      "source": [
        "for i in range(len(y_predictions)):\n",
        "  if labels[i] != predicts[i]:\n",
        "    print(i, ':', labels[i], '->', predicts[i], '=', y_predictions[i])"
      ],
      "execution_count": null,
      "outputs": []
    },
    {
      "cell_type": "code",
      "metadata": {
        "id": "7A61pWVXbBKU"
      },
      "source": [
        "test_generator = img_gen.flow_from_directory(\n",
        "            directory=\"test_images\",\n",
        "            batch_size=8,\n",
        "            shuffle=False,\n",
        "            class_mode=None,\n",
        "            color_mode=\"rgb\",\n",
        "            target_size=(299,299))"
      ],
      "execution_count": null,
      "outputs": []
    },
    {
      "cell_type": "code",
      "metadata": {
        "id": "gH3N656tHvVF"
      },
      "source": [
        "df_test = pd.read_csv(\"test.csv\",dtype=str)\n",
        "print(df_test.shape)"
      ],
      "execution_count": null,
      "outputs": []
    },
    {
      "cell_type": "code",
      "metadata": {
        "id": "hukndpFCnTBM"
      },
      "source": [
        "df_test.head()"
      ],
      "execution_count": null,
      "outputs": []
    },
    {
      "cell_type": "code",
      "metadata": {
        "id": "26sEKiQYH2sr"
      },
      "source": [
        "test_num = df_test.shape[0]\n",
        "test_files  = df_test.iloc[:test_num,0].values\n",
        "test_labels = df_test.iloc[:test_num,1].values\n",
        "print(test_labels[:10])"
      ],
      "execution_count": null,
      "outputs": []
    },
    {
      "cell_type": "code",
      "metadata": {
        "id": "XhLl9xNtpZHn"
      },
      "source": [
        "len(y_predictions)"
      ],
      "execution_count": null,
      "outputs": []
    },
    {
      "cell_type": "code",
      "metadata": {
        "id": "zTc8mZMpocXf"
      },
      "source": [
        "predicts = np.argmax(y_predictions,axis=1)\n",
        "print(predicts[:20])"
      ],
      "execution_count": null,
      "outputs": []
    },
    {
      "cell_type": "code",
      "metadata": {
        "id": "rjzR0cmDjPT-"
      },
      "source": [
        "img_gen2 = ImageDataGenerator(horizontal_flip=False, vertical_flip=False, preprocessing_function=preprocess_input)\n",
        "test_generator = img_gen2.flow_from_dataframe(dataframe=df_test,\n",
        "            directory=\"test_images\",\n",
        "            x_col=\"ID\",\n",
        "            y_col=\"Label\",\n",
        "            batch_size=32,\n",
        "            shuffle=False,\n",
        "            class_mode=None,\n",
        "            target_size=(299,299))"
      ],
      "execution_count": null,
      "outputs": []
    },
    {
      "cell_type": "code",
      "metadata": {
        "id": "c3z-YfOEn0UF"
      },
      "source": [
        "if test_generator.n % test_generator.batch_size ==0:\n",
        "  step_size_test=test_generator.n//test_generator.batch_size\n",
        "else:\n",
        "  step_size_test=test_generator.n//test_generator.batch_size + 1"
      ],
      "execution_count": null,
      "outputs": []
    },
    {
      "cell_type": "code",
      "metadata": {
        "id": "chRywd4OnsFK"
      },
      "source": [
        "#y_predictions = model.predict(X_train, batch_size=20)\n",
        "test_generator.reset()\n",
        "y_predictions = model.predict_generator(generator=test_generator, steps=step_size_test,verbose=1)"
      ],
      "execution_count": null,
      "outputs": []
    },
    {
      "cell_type": "code",
      "metadata": {
        "id": "9UyO5HWMkRl4"
      },
      "source": [
        "import numpy as np\n",
        "predicts=np.argmax(y_predictions,axis=1)"
      ],
      "execution_count": null,
      "outputs": []
    },
    {
      "cell_type": "code",
      "metadata": {
        "id": "YAcO-THWo6iY"
      },
      "source": [
        "len(predicts)"
      ],
      "execution_count": null,
      "outputs": []
    },
    {
      "cell_type": "code",
      "metadata": {
        "id": "0sXBA6kypHZd"
      },
      "source": [
        "df_out = pd.DataFrame(df_test)\n",
        "df_out.shape"
      ],
      "execution_count": null,
      "outputs": []
    },
    {
      "cell_type": "code",
      "metadata": {
        "id": "Z5sYBeoVIAKA"
      },
      "source": [
        "df_out['Label'] = predicts\n",
        "df_out.to_csv(\"0625-iv3.csv\", index=False)"
      ],
      "execution_count": null,
      "outputs": []
    },
    {
      "cell_type": "code",
      "metadata": {
        "id": "6tyHMjdyN95t"
      },
      "source": [
        "from tensorflow.keras.applications import ResNet50V2\n",
        "model = ResNet50V2(include_top = True, input_shape=(299,299,3), weights=None, classes=num_classes)"
      ],
      "execution_count": null,
      "outputs": []
    },
    {
      "cell_type": "code",
      "metadata": {
        "id": "9cNYKT7Ch6MM"
      },
      "source": [
        "from tensorflow.keras.applications import MobileNetV2\n",
        "model = MobileNetV2(include_top = True, input_shape=(299,299,3), weights=None, classes=num_classes)"
      ],
      "execution_count": null,
      "outputs": []
    },
    {
      "cell_type": "code",
      "metadata": {
        "id": "1V_QIMkDODih"
      },
      "source": [
        "from tensorflow.keras.preprocessing.image import ImageDataGenerator\n",
        "from tensorflow.keras.applications.resnet_v2 import preprocess_input\n",
        "img_gen = ImageDataGenerator(zca_whitening=False,preprocessing_function=preprocess_input)"
      ],
      "execution_count": null,
      "outputs": []
    },
    {
      "cell_type": "code",
      "metadata": {
        "id": "BgIgbBCDh9Tc"
      },
      "source": [
        "from tensorflow.keras.preprocessing.image import ImageDataGenerator\n",
        "from tensorflow.keras.applications.mobilenet_v2 import preprocess_input\n",
        "img_gen = ImageDataGenerator(zca_whitening=False,preprocessing_function=preprocess_input)"
      ],
      "execution_count": null,
      "outputs": []
    }
  ]
}